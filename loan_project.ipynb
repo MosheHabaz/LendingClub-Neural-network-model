{
  "nbformat": 4,
  "nbformat_minor": 0,
  "metadata": {
    "kernelspec": {
      "display_name": "Python 3",
      "language": "python",
      "name": "python3"
    },
    "language_info": {
      "codemirror_mode": {
        "name": "ipython",
        "version": 3
      },
      "file_extension": ".py",
      "mimetype": "text/x-python",
      "name": "python",
      "nbconvert_exporter": "python",
      "pygments_lexer": "ipython3",
      "version": "3.6.10"
    },
    "colab": {
      "name": "keras_project_moshe.ipynb",
      "provenance": [],
      "collapsed_sections": [],
      "toc_visible": true,
      "include_colab_link": true
    }
  },
  "cells": [
    {
      "cell_type": "markdown",
      "metadata": {
        "id": "view-in-github",
        "colab_type": "text"
      },
      "source": [
        "<a href=\"https://colab.research.google.com/github/MosheHabaz/LendingClub-Neural-network-model/blob/master/loan_project.ipynb\" target=\"_parent\"><img src=\"https://colab.research.google.com/assets/colab-badge.svg\" alt=\"Open In Colab\"/></a>"
      ]
    },
    {
      "cell_type": "markdown",
      "metadata": {
        "id": "lW0aH104mCdg",
        "colab_type": "text"
      },
      "source": [
        "\n",
        "# **Keras Project using Google Colab**\n",
        "## The Dataset LendingClub DataSet obtained from Kaggle\n",
        "### Wikipedia information about LendingClub:\n",
        "LendingClub is an American peer-to-peer lending company, headquartered in San Francisco, California. It was the first peer-to-peer lender to register its offerings as securities with the Securities and Exchange Commission (SEC), and to offer loan trading on a secondary market. LendingClub is the world's largest peer-to-peer lending platform. The company claims that $15.98 billion in loans had been originated through its platform up to December 31, 2015.\n",
        "\n",
        "LendingClub enables borrowers to create unsecured personal loans between \n",
        "1,000 and 40,000 dollars. The standard loan period is three years. Investors can search and browse the loan listings on LendingClub website and select loans that they want to invest in based on the information supplied about the borrower, amount of loan, loan grade, and loan purpose. Investors make money from interest. LendingClub makes money by charging borrowers an origination fee and investors a service fee.\n",
        "\n",
        "\n",
        "### Goal:\n",
        "\n",
        "building a model that can predict wether or nor a borrower will pay back their loan. \n",
        "using an historical data on loans given out with information on whether or not the borrower defaulted .\n",
        "\n"
      ]
    },
    {
      "cell_type": "code",
      "metadata": {
        "id": "EW7ixCWfmlA7",
        "colab_type": "code",
        "colab": {
          "base_uri": "https://localhost:8080/",
          "height": 35
        },
        "outputId": "765deb56-308e-467a-a24c-76ca8fa7d71a"
      },
      "source": [
        "from google.colab import drive\n",
        "drive.mount('/content/drive')"
      ],
      "execution_count": 276,
      "outputs": [
        {
          "output_type": "stream",
          "text": [
            "Drive already mounted at /content/drive; to attempt to forcibly remount, call drive.mount(\"/content/drive\", force_remount=True).\n"
          ],
          "name": "stdout"
        }
      ]
    },
    {
      "cell_type": "markdown",
      "metadata": {
        "id": "e5W4hJeJmCdg",
        "colab_type": "text"
      },
      "source": [
        "\n",
        "----\n",
        "\n",
        "Data overview :\n",
        "----\n"
      ]
    },
    {
      "cell_type": "code",
      "metadata": {
        "id": "U0PgAWA6mCdi",
        "colab_type": "code",
        "colab": {
          "base_uri": "https://localhost:8080/",
          "height": 74
        },
        "outputId": "20dfbcea-096e-43ad-f87d-f5f0b264296b"
      },
      "source": [
        "import pandas as pd\n",
        "pd.set_option('display.max_colwidth', -1)\n"
      ],
      "execution_count": 277,
      "outputs": [
        {
          "output_type": "stream",
          "text": [
            "/usr/local/lib/python3.6/dist-packages/ipykernel_launcher.py:2: FutureWarning: Passing a negative integer is deprecated in version 1.0 and will not be supported in future version. Instead, use None to not limit the column width.\n",
            "  \n"
          ],
          "name": "stderr"
        }
      ]
    },
    {
      "cell_type": "code",
      "metadata": {
        "id": "W6-cfEnNmCdm",
        "colab_type": "code",
        "colab": {
          "base_uri": "https://localhost:8080/",
          "height": 935
        },
        "outputId": "a6589b86-75e6-4f46-a494-e33ed4ac3dc4"
      },
      "source": [
        "data_info = pd.read_csv('/content/drive/My Drive/Colab Notebooks/loan/DATA/column_info.csv',index_col='LoanStatNew')\n",
        "data_info"
      ],
      "execution_count": 278,
      "outputs": [
        {
          "output_type": "execute_result",
          "data": {
            "text/html": [
              "<div>\n",
              "<style scoped>\n",
              "    .dataframe tbody tr th:only-of-type {\n",
              "        vertical-align: middle;\n",
              "    }\n",
              "\n",
              "    .dataframe tbody tr th {\n",
              "        vertical-align: top;\n",
              "    }\n",
              "\n",
              "    .dataframe thead th {\n",
              "        text-align: right;\n",
              "    }\n",
              "</style>\n",
              "<table border=\"1\" class=\"dataframe\">\n",
              "  <thead>\n",
              "    <tr style=\"text-align: right;\">\n",
              "      <th></th>\n",
              "      <th>Description</th>\n",
              "    </tr>\n",
              "    <tr>\n",
              "      <th>LoanStatNew</th>\n",
              "      <th></th>\n",
              "    </tr>\n",
              "  </thead>\n",
              "  <tbody>\n",
              "    <tr>\n",
              "      <th>loan_amnt</th>\n",
              "      <td>The listed amount of the loan applied for by the borrower. If at some point in time, the credit department reduces the loan amount, then it will be reflected in this value.</td>\n",
              "    </tr>\n",
              "    <tr>\n",
              "      <th>term</th>\n",
              "      <td>The number of payments on the loan. Values are in months and can be either 36 or 60.</td>\n",
              "    </tr>\n",
              "    <tr>\n",
              "      <th>int_rate</th>\n",
              "      <td>Interest Rate on the loan</td>\n",
              "    </tr>\n",
              "    <tr>\n",
              "      <th>installment</th>\n",
              "      <td>The monthly payment owed by the borrower if the loan originates.</td>\n",
              "    </tr>\n",
              "    <tr>\n",
              "      <th>grade</th>\n",
              "      <td>LC assigned loan grade</td>\n",
              "    </tr>\n",
              "    <tr>\n",
              "      <th>sub_grade</th>\n",
              "      <td>LC assigned loan subgrade</td>\n",
              "    </tr>\n",
              "    <tr>\n",
              "      <th>emp_title</th>\n",
              "      <td>The job title supplied by the Borrower when applying for the loan.*</td>\n",
              "    </tr>\n",
              "    <tr>\n",
              "      <th>emp_length</th>\n",
              "      <td>Employment length in years. Possible values are between 0 and 10 where 0 means less than one year and 10 means ten or more years.</td>\n",
              "    </tr>\n",
              "    <tr>\n",
              "      <th>home_ownership</th>\n",
              "      <td>The home ownership status provided by the borrower during registration or obtained from the credit report. Our values are: RENT, OWN, MORTGAGE, OTHER</td>\n",
              "    </tr>\n",
              "    <tr>\n",
              "      <th>annual_inc</th>\n",
              "      <td>The self-reported annual income provided by the borrower during registration.</td>\n",
              "    </tr>\n",
              "    <tr>\n",
              "      <th>verification_status</th>\n",
              "      <td>Indicates if income was verified by LC, not verified, or if the income source was verified</td>\n",
              "    </tr>\n",
              "    <tr>\n",
              "      <th>issue_d</th>\n",
              "      <td>The month which the loan was funded</td>\n",
              "    </tr>\n",
              "    <tr>\n",
              "      <th>loan_status</th>\n",
              "      <td>Current status of the loan</td>\n",
              "    </tr>\n",
              "    <tr>\n",
              "      <th>purpose</th>\n",
              "      <td>A category provided by the borrower for the loan request.</td>\n",
              "    </tr>\n",
              "    <tr>\n",
              "      <th>title</th>\n",
              "      <td>The loan title provided by the borrower</td>\n",
              "    </tr>\n",
              "    <tr>\n",
              "      <th>zip_code</th>\n",
              "      <td>The first 3 numbers of the zip code provided by the borrower in the loan application.</td>\n",
              "    </tr>\n",
              "    <tr>\n",
              "      <th>addr_state</th>\n",
              "      <td>The state provided by the borrower in the loan application</td>\n",
              "    </tr>\n",
              "    <tr>\n",
              "      <th>dti</th>\n",
              "      <td>A ratio calculated using the borrower’s total monthly debt payments on the total debt obligations, excluding mortgage and the requested LC loan, divided by the borrower’s self-reported monthly income.</td>\n",
              "    </tr>\n",
              "    <tr>\n",
              "      <th>earliest_cr_line</th>\n",
              "      <td>The month the borrower's earliest reported credit line was opened</td>\n",
              "    </tr>\n",
              "    <tr>\n",
              "      <th>open_acc</th>\n",
              "      <td>The number of open credit lines in the borrower's credit file.</td>\n",
              "    </tr>\n",
              "    <tr>\n",
              "      <th>pub_rec</th>\n",
              "      <td>Number of derogatory public records</td>\n",
              "    </tr>\n",
              "    <tr>\n",
              "      <th>revol_bal</th>\n",
              "      <td>Total credit revolving balance</td>\n",
              "    </tr>\n",
              "    <tr>\n",
              "      <th>revol_util</th>\n",
              "      <td>Revolving line utilization rate, or the amount of credit the borrower is using relative to all available revolving credit.</td>\n",
              "    </tr>\n",
              "    <tr>\n",
              "      <th>total_acc</th>\n",
              "      <td>The total number of credit lines currently in the borrower's credit file</td>\n",
              "    </tr>\n",
              "    <tr>\n",
              "      <th>initial_list_status</th>\n",
              "      <td>The initial listing status of the loan. Possible values are – W, F</td>\n",
              "    </tr>\n",
              "    <tr>\n",
              "      <th>application_type</th>\n",
              "      <td>Indicates whether the loan is an individual application or a joint application with two co-borrowers</td>\n",
              "    </tr>\n",
              "    <tr>\n",
              "      <th>mort_acc</th>\n",
              "      <td>Number of mortgage accounts.</td>\n",
              "    </tr>\n",
              "    <tr>\n",
              "      <th>pub_rec_bankruptcies</th>\n",
              "      <td>Number of public record bankruptcies</td>\n",
              "    </tr>\n",
              "  </tbody>\n",
              "</table>\n",
              "</div>"
            ],
            "text/plain": [
              "                                                                                                                                                                                                                   Description\n",
              "LoanStatNew                                                                                                                                                                                                                   \n",
              "loan_amnt             The listed amount of the loan applied for by the borrower. If at some point in time, the credit department reduces the loan amount, then it will be reflected in this value.                            \n",
              "term                  The number of payments on the loan. Values are in months and can be either 36 or 60.                                                                                                                    \n",
              "int_rate              Interest Rate on the loan                                                                                                                                                                               \n",
              "installment           The monthly payment owed by the borrower if the loan originates.                                                                                                                                        \n",
              "grade                 LC assigned loan grade                                                                                                                                                                                  \n",
              "sub_grade             LC assigned loan subgrade                                                                                                                                                                               \n",
              "emp_title             The job title supplied by the Borrower when applying for the loan.*                                                                                                                                     \n",
              "emp_length            Employment length in years. Possible values are between 0 and 10 where 0 means less than one year and 10 means ten or more years.                                                                       \n",
              "home_ownership        The home ownership status provided by the borrower during registration or obtained from the credit report. Our values are: RENT, OWN, MORTGAGE, OTHER                                                   \n",
              "annual_inc            The self-reported annual income provided by the borrower during registration.                                                                                                                           \n",
              "verification_status   Indicates if income was verified by LC, not verified, or if the income source was verified                                                                                                              \n",
              "issue_d               The month which the loan was funded                                                                                                                                                                     \n",
              "loan_status           Current status of the loan                                                                                                                                                                              \n",
              "purpose               A category provided by the borrower for the loan request.                                                                                                                                               \n",
              "title                 The loan title provided by the borrower                                                                                                                                                                 \n",
              "zip_code              The first 3 numbers of the zip code provided by the borrower in the loan application.                                                                                                                   \n",
              "addr_state            The state provided by the borrower in the loan application                                                                                                                                              \n",
              "dti                   A ratio calculated using the borrower’s total monthly debt payments on the total debt obligations, excluding mortgage and the requested LC loan, divided by the borrower’s self-reported monthly income.\n",
              "earliest_cr_line      The month the borrower's earliest reported credit line was opened                                                                                                                                       \n",
              "open_acc              The number of open credit lines in the borrower's credit file.                                                                                                                                          \n",
              "pub_rec               Number of derogatory public records                                                                                                                                                                     \n",
              "revol_bal             Total credit revolving balance                                                                                                                                                                          \n",
              "revol_util            Revolving line utilization rate, or the amount of credit the borrower is using relative to all available revolving credit.                                                                              \n",
              "total_acc             The total number of credit lines currently in the borrower's credit file                                                                                                                                \n",
              "initial_list_status   The initial listing status of the loan. Possible values are – W, F                                                                                                                                      \n",
              "application_type      Indicates whether the loan is an individual application or a joint application with two co-borrowers                                                                                                    \n",
              "mort_acc              Number of mortgage accounts.                                                                                                                                                                            \n",
              "pub_rec_bankruptcies  Number of public record bankruptcies                                                                                                                                                                    "
            ]
          },
          "metadata": {
            "tags": []
          },
          "execution_count": 278
        }
      ]
    },
    {
      "cell_type": "markdown",
      "metadata": {
        "id": "9uo_1WLtmCd2",
        "colab_type": "text"
      },
      "source": [
        "Imports:"
      ]
    },
    {
      "cell_type": "code",
      "metadata": {
        "id": "9efqUw1NmCd3",
        "colab_type": "code",
        "colab": {}
      },
      "source": [
        "#import pandas as pd\n",
        "import numpy as np\n",
        "import matplotlib.pyplot as plt\n",
        "import seaborn as sns\n",
        "\n",
        "%matplotlib inline"
      ],
      "execution_count": 279,
      "outputs": []
    },
    {
      "cell_type": "code",
      "metadata": {
        "id": "y6CMSKKMmCd7",
        "colab_type": "code",
        "colab": {}
      },
      "source": [
        "df = pd.read_csv('/content/drive/My Drive/Colab Notebooks/loan/DATA/loan_db.csv')"
      ],
      "execution_count": 280,
      "outputs": []
    },
    {
      "cell_type": "code",
      "metadata": {
        "id": "DChiym19mCd-",
        "colab_type": "code",
        "colab": {
          "base_uri": "https://localhost:8080/",
          "height": 635
        },
        "outputId": "357b4661-8709-4e66-fabc-8c042f4b4f25"
      },
      "source": [
        "df.info()"
      ],
      "execution_count": 281,
      "outputs": [
        {
          "output_type": "stream",
          "text": [
            "<class 'pandas.core.frame.DataFrame'>\n",
            "RangeIndex: 396030 entries, 0 to 396029\n",
            "Data columns (total 27 columns):\n",
            " #   Column                Non-Null Count   Dtype  \n",
            "---  ------                --------------   -----  \n",
            " 0   loan_amnt             396030 non-null  float64\n",
            " 1   term                  396030 non-null  object \n",
            " 2   int_rate              396030 non-null  float64\n",
            " 3   installment           396030 non-null  float64\n",
            " 4   grade                 396030 non-null  object \n",
            " 5   sub_grade             396030 non-null  object \n",
            " 6   emp_title             373103 non-null  object \n",
            " 7   emp_length            377729 non-null  object \n",
            " 8   home_ownership        396030 non-null  object \n",
            " 9   annual_inc            396030 non-null  float64\n",
            " 10  verification_status   396030 non-null  object \n",
            " 11  issue_d               396030 non-null  object \n",
            " 12  loan_status           396030 non-null  object \n",
            " 13  purpose               396030 non-null  object \n",
            " 14  title                 394275 non-null  object \n",
            " 15  dti                   396030 non-null  float64\n",
            " 16  earliest_cr_line      396030 non-null  object \n",
            " 17  open_acc              396030 non-null  float64\n",
            " 18  pub_rec               396030 non-null  float64\n",
            " 19  revol_bal             396030 non-null  float64\n",
            " 20  revol_util            395754 non-null  float64\n",
            " 21  total_acc             396030 non-null  float64\n",
            " 22  initial_list_status   396030 non-null  object \n",
            " 23  application_type      396030 non-null  object \n",
            " 24  mort_acc              358235 non-null  float64\n",
            " 25  pub_rec_bankruptcies  395495 non-null  float64\n",
            " 26  address               396030 non-null  object \n",
            "dtypes: float64(12), object(15)\n",
            "memory usage: 81.6+ MB\n"
          ],
          "name": "stdout"
        }
      ]
    },
    {
      "cell_type": "markdown",
      "metadata": {
        "id": "WMmmomPMmCeB",
        "colab_type": "text"
      },
      "source": [
        "\n",
        "# Section 1: Data Analysis\n",
        "\n",
        "\n",
        "*   Understanding which variables are important\n",
        "*   View summary statistics\n",
        "*   Data Analysis\n",
        "*   Visualize the data\n",
        "\n",
        "\n",
        "----"
      ]
    },
    {
      "cell_type": "markdown",
      "metadata": {
        "id": "X7eG61udmCeB",
        "colab_type": "text"
      },
      "source": [
        "##Exploring loan status, loan amnt and installment columns\n",
        "\n",
        "**loan_amnt** is the listed amount of the loan applied for by the borrower. If at some point in time, the credit department reduces the loan amount, then it will be reflected in this value.\n",
        "\n",
        "The target variable is : **'loan status'** the current status of the loan."
      ]
    },
    {
      "cell_type": "markdown",
      "metadata": {
        "id": "hQjgii4L0QKx",
        "colab_type": "text"
      },
      "source": [
        "Count Plot of the taget variable (loan status) :"
      ]
    },
    {
      "cell_type": "code",
      "metadata": {
        "id": "-jFY8jbPmCeF",
        "colab_type": "code",
        "colab": {
          "base_uri": "https://localhost:8080/",
          "height": 298
        },
        "outputId": "11e821a5-5351-4e98-b4f4-7d09a3573307"
      },
      "source": [
        "sns.countplot(df['loan_status'])"
      ],
      "execution_count": 282,
      "outputs": [
        {
          "output_type": "execute_result",
          "data": {
            "text/plain": [
              "<matplotlib.axes._subplots.AxesSubplot at 0x7faa842e9198>"
            ]
          },
          "metadata": {
            "tags": []
          },
          "execution_count": 282
        },
        {
          "output_type": "display_data",
          "data": {
            "image/png": "[encoded data removed]",
            "text/plain": [
              "<Figure size 432x288 with 1 Axes>"
            ]
          },
          "metadata": {
            "tags": [],
            "needs_background": "light"
          }
        }
      ]
    },
    {
      "cell_type": "markdown",
      "metadata": {
        "id": "Q-A6vCVqyX8k",
        "colab_type": "text"
      },
      "source": [
        "The Count Plot of the taget variable (**loan status**) indicates that this is an imbalanced problem.\n",
        "Notice that we have a lot more entries of people that **fully pay** off their loans than we have people that didn't pay back (**charged off**)."
      ]
    },
    {
      "cell_type": "markdown",
      "metadata": {
        "id": "uy8Rq9qc0XoW",
        "colab_type": "text"
      },
      "source": [
        "Histogram of the loan amount:"
      ]
    },
    {
      "cell_type": "code",
      "metadata": {
        "id": "4ggh9QtumCeJ",
        "colab_type": "code",
        "colab": {
          "base_uri": "https://localhost:8080/",
          "height": 298
        },
        "outputId": "5d57e6a8-1c32-45e7-84fb-fc4c01274b3b"
      },
      "source": [
        "plt.figure(figsize=(12,4))\n",
        "sns.distplot(df['loan_amnt'],kde=False,bins=30)\n",
        "plt.xlim(0,45000)"
      ],
      "execution_count": 283,
      "outputs": [
        {
          "output_type": "execute_result",
          "data": {
            "text/plain": [
              "(0.0, 45000.0)"
            ]
          },
          "metadata": {
            "tags": []
          },
          "execution_count": 283
        },
        {
          "output_type": "display_data",
          "data": {
            "image/png": "[encoded data removed]",
            "text/plain": [
              "<Figure size 864x288 with 1 Axes>"
            ]
          },
          "metadata": {
            "tags": [],
            "needs_background": "light"
          }
        }
      ]
    },
    {
      "cell_type": "markdown",
      "metadata": {
        "id": "QrUTCXCemCeI",
        "colab_type": "text"
      },
      "source": [
        "Histogram of the loan amount column  (Notice these bean spikes are happening because there is even loan amounts  instead of a spike at some random value)\n"
      ]
    },
    {
      "cell_type": "markdown",
      "metadata": {
        "id": "KdbjPDwe0EcD",
        "colab_type": "text"
      },
      "source": [
        "\n",
        "\n",
        "\n",
        "\n",
        "\n",
        "\n",
        "\n",
        "\n",
        "\n",
        "\n",
        "\n",
        "\n",
        "\n",
        "\n",
        "\n",
        "\n",
        "\n",
        "\n",
        "\n",
        "\n",
        "\n",
        "\n",
        "\n",
        "\n",
        "\n",
        "\n",
        "\n",
        "\n",
        "\n",
        "\n",
        "\n",
        "\n",
        "\n",
        "\n",
        "\n",
        "\n",
        "\n",
        "\n",
        "\n",
        "\n",
        "\n",
        "\n",
        "\n",
        "\n",
        "\n",
        "\n",
        "\n",
        "\n",
        "\n",
        "\n",
        "\n",
        "\n",
        "\n",
        "\n",
        "\n",
        "\n",
        "\n",
        "\n",
        "\n",
        "\n",
        "\n",
        "\n",
        "\n",
        "\n",
        "\n",
        "\n",
        "\n",
        "\n",
        "\n",
        "\n",
        "\n",
        "\n",
        "\n",
        "\n",
        "\n",
        "\n",
        "\n",
        "\n",
        "\n",
        "\n",
        "\n",
        "\n",
        "\n",
        "\n",
        "\n",
        "\n",
        "\n",
        "\n",
        "\n",
        "\n",
        "\n",
        "\n",
        "\n",
        "\n",
        "\n",
        "\n",
        "\n",
        "\n",
        "\n",
        "\n",
        "\n",
        "\n",
        "\n",
        "\n",
        "\n",
        "\n",
        "\n",
        "\n",
        "\n",
        "\n",
        "\n",
        "\n",
        "\n",
        "\n",
        "\n",
        "\n",
        "\n",
        "\n",
        "\n",
        "\n",
        "\n",
        "\n",
        "\n",
        "\n",
        "\n",
        "\n",
        "\n",
        "\n",
        "\n",
        "\n",
        "\n",
        "\n",
        "\n",
        "\n",
        "\n",
        "\n",
        "\n",
        "\n",
        "\n",
        "\n",
        "\n",
        "\n",
        "\n",
        "\n",
        "\n",
        "\n",
        "\n",
        "\n",
        "\n",
        "\n",
        "\n",
        "\n",
        "\n",
        "\n",
        "\n",
        "\n",
        "\n",
        "\n",
        "\n",
        "\n",
        "\n",
        "\n",
        "\n",
        "\n",
        "\n",
        "\n",
        "\n",
        "\n",
        "\n",
        "\n",
        "Correlation between the continuous feature variables:"
      ]
    },
    {
      "cell_type": "code",
      "metadata": {
        "id": "4ntaK9ORmCeV",
        "colab_type": "code",
        "colab": {
          "base_uri": "https://localhost:8080/",
          "height": 713
        },
        "outputId": "6a223f11-84a2-42ec-f1e7-a835454552d7"
      },
      "source": [
        "plt.figure(figsize=(12,10))\n",
        "sns.heatmap(df.corr(), annot= True,cmap = 'RdBu_r')"
      ],
      "execution_count": 284,
      "outputs": [
        {
          "output_type": "execute_result",
          "data": {
            "text/plain": [
              "<matplotlib.axes._subplots.AxesSubplot at 0x7faacd54aa58>"
            ]
          },
          "metadata": {
            "tags": []
          },
          "execution_count": 284
        },
        {
          "output_type": "display_data",
          "data": {
            "image/png": "[encoded data removed]",
            "text/plain": [
              "<Figure size 864x720 with 2 Axes>"
            ]
          },
          "metadata": {
            "tags": [],
            "needs_background": "light"
          }
        }
      ]
    },
    {
      "cell_type": "markdown",
      "metadata": {
        "id": "9m3r2Rc4mCeP",
        "colab_type": "text"
      },
      "source": [
        "There is almost perfect correlation (95%) with the **'installment'** feature and **'loan_amnt'** .\n",
        "For preventing data leakage it is necessary to explore these features further."
      ]
    },
    {
      "cell_type": "markdown",
      "metadata": {
        "id": "fQWqdB5Q7vr6",
        "colab_type": "text"
      },
      "source": [
        "**installment** is The monthly payment owed by the borrower if the loan originates.\n",
        "**loan_amnt** is The listed amount of the loan applied for by the borrower. If at some point in time, the credit department reduces the loan amount, then it will be reflected in this value.\n",
        "\n",
        "From the feature description it can be assumed that the company probably use calculation of the loan amount to figure out what the installment should be."
      ]
    },
    {
      "cell_type": "markdown",
      "metadata": {
        "id": "hiHnCeKd-xHZ",
        "colab_type": "text"
      },
      "source": [
        "Using a scatter plot we can view this high correlation:"
      ]
    },
    {
      "cell_type": "code",
      "metadata": {
        "id": "xy1iOtbvmCel",
        "colab_type": "code",
        "colab": {
          "base_uri": "https://localhost:8080/",
          "height": 297
        },
        "outputId": "89421332-65b3-4ab0-8f2b-e6b5bf53131d"
      },
      "source": [
        "sns.scatterplot( x='installment',y='loan_amnt',data=df)\n"
      ],
      "execution_count": 285,
      "outputs": [
        {
          "output_type": "execute_result",
          "data": {
            "text/plain": [
              "<matplotlib.axes._subplots.AxesSubplot at 0x7faa89089208>"
            ]
          },
          "metadata": {
            "tags": []
          },
          "execution_count": 285
        },
        {
          "output_type": "display_data",
          "data": {
            "image/png": "[encoded data removed]",
            "text/plain": [
              "<Figure size 432x288 with 1 Axes>"
            ]
          },
          "metadata": {
            "tags": [],
            "needs_background": "light"
          }
        }
      ]
    },
    {
      "cell_type": "markdown",
      "metadata": {
        "id": "3otG_Dw-0p_6",
        "colab_type": "text"
      },
      "source": [
        "Box plot of the loan status and the loan amount:"
      ]
    },
    {
      "cell_type": "code",
      "metadata": {
        "id": "UWZ9LF4AmCer",
        "colab_type": "code",
        "colab": {
          "base_uri": "https://localhost:8080/",
          "height": 298
        },
        "outputId": "2a115a4a-eebc-4ff5-948f-b1eea1198deb"
      },
      "source": [
        "sns.boxplot(x='loan_status',y='loan_amnt',data=df )"
      ],
      "execution_count": 286,
      "outputs": [
        {
          "output_type": "execute_result",
          "data": {
            "text/plain": [
              "<matplotlib.axes._subplots.AxesSubplot at 0x7faa83f95588>"
            ]
          },
          "metadata": {
            "tags": []
          },
          "execution_count": 286
        },
        {
          "output_type": "display_data",
          "data": {
            "image/png": "[encoded data removed]",
            "text/plain": [
              "<Figure size 432x288 with 1 Axes>"
            ]
          },
          "metadata": {
            "tags": [],
            "needs_background": "light"
          }
        }
      ]
    },
    {
      "cell_type": "markdown",
      "metadata": {
        "id": "6k3t39udmCer",
        "colab_type": "text"
      },
      "source": [
        "Using a box plot we can show the relationship between the **loan status** and the **loan amount**.\n",
        "we would answer the question is there a relationship between really expensive loans and not being able to pay them off or very low amount loans and then fully paying those off."
      ]
    },
    {
      "cell_type": "markdown",
      "metadata": {
        "id": "awxjY7QJAv2H",
        "colab_type": "text"
      },
      "source": [
        "The 'charged off' average in this box plot is slightly higher, that indicates if our loan amount is higher we have a slight increase in the likelihood of it being 'charged off' which intuitively makes sense - that it's harder to pay back larger loans than it is.\n"
      ]
    },
    {
      "cell_type": "markdown",
      "metadata": {
        "id": "h_bkKUmmmCey",
        "colab_type": "text"
      },
      "source": [
        "Summary statistics for the **loan amount**, grouped by the loan_status\n",
        "we can see the **charged off** average price is a little higher than the **fully paid** loan. "
      ]
    },
    {
      "cell_type": "code",
      "metadata": {
        "id": "ocbOpaXAmCez",
        "colab_type": "code",
        "colab": {
          "base_uri": "https://localhost:8080/",
          "height": 138
        },
        "outputId": "3f644e80-3e83-419d-bd84-9cbba10d86e1"
      },
      "source": [
        "df.groupby(['loan_status'])['loan_amnt'].describe()"
      ],
      "execution_count": 287,
      "outputs": [
        {
          "output_type": "execute_result",
          "data": {
            "text/html": [
              "<div>\n",
              "<style scoped>\n",
              "    .dataframe tbody tr th:only-of-type {\n",
              "        vertical-align: middle;\n",
              "    }\n",
              "\n",
              "    .dataframe tbody tr th {\n",
              "        vertical-align: top;\n",
              "    }\n",
              "\n",
              "    .dataframe thead th {\n",
              "        text-align: right;\n",
              "    }\n",
              "</style>\n",
              "<table border=\"1\" class=\"dataframe\">\n",
              "  <thead>\n",
              "    <tr style=\"text-align: right;\">\n",
              "      <th></th>\n",
              "      <th>count</th>\n",
              "      <th>mean</th>\n",
              "      <th>std</th>\n",
              "      <th>min</th>\n",
              "      <th>25%</th>\n",
              "      <th>50%</th>\n",
              "      <th>75%</th>\n",
              "      <th>max</th>\n",
              "    </tr>\n",
              "    <tr>\n",
              "      <th>loan_status</th>\n",
              "      <th></th>\n",
              "      <th></th>\n",
              "      <th></th>\n",
              "      <th></th>\n",
              "      <th></th>\n",
              "      <th></th>\n",
              "      <th></th>\n",
              "      <th></th>\n",
              "    </tr>\n",
              "  </thead>\n",
              "  <tbody>\n",
              "    <tr>\n",
              "      <th>Charged Off</th>\n",
              "      <td>77673.0</td>\n",
              "      <td>15126.300967</td>\n",
              "      <td>8505.090557</td>\n",
              "      <td>1000.0</td>\n",
              "      <td>8525.0</td>\n",
              "      <td>14000.0</td>\n",
              "      <td>20000.0</td>\n",
              "      <td>40000.0</td>\n",
              "    </tr>\n",
              "    <tr>\n",
              "      <th>Fully Paid</th>\n",
              "      <td>318357.0</td>\n",
              "      <td>13866.878771</td>\n",
              "      <td>8302.319699</td>\n",
              "      <td>500.0</td>\n",
              "      <td>7500.0</td>\n",
              "      <td>12000.0</td>\n",
              "      <td>19225.0</td>\n",
              "      <td>40000.0</td>\n",
              "    </tr>\n",
              "  </tbody>\n",
              "</table>\n",
              "</div>"
            ],
            "text/plain": [
              "                count          mean          std  ...      50%      75%      max\n",
              "loan_status                                       ...                           \n",
              "Charged Off  77673.0   15126.300967  8505.090557  ...  14000.0  20000.0  40000.0\n",
              "Fully Paid   318357.0  13866.878771  8302.319699  ...  12000.0  19225.0  40000.0\n",
              "\n",
              "[2 rows x 8 columns]"
            ]
          },
          "metadata": {
            "tags": []
          },
          "execution_count": 287
        }
      ]
    },
    {
      "cell_type": "markdown",
      "metadata": {
        "id": "gLquY83kzv47",
        "colab_type": "text"
      },
      "source": [
        "All this is indicate that the averages of the loans for people that aren't able to pay them back are slightly higher than the averages for people that do pay off their loans.\n",
        "\n",
        "----"
      ]
    },
    {
      "cell_type": "markdown",
      "metadata": {
        "id": "OkscWxSlmCe5",
        "colab_type": "text"
      },
      "source": [
        "##Exploring the Grade and SubGrade columns that LendingClub assigned to the loans.\n"
      ]
    },
    {
      "cell_type": "code",
      "metadata": {
        "id": "YdUNcn-DmCe6",
        "colab_type": "code",
        "colab": {
          "base_uri": "https://localhost:8080/",
          "height": 35
        },
        "outputId": "6b297710-4081-4355-e3ed-42089fafdc78"
      },
      "source": [
        "sorted(df['grade'].unique())"
      ],
      "execution_count": 288,
      "outputs": [
        {
          "output_type": "execute_result",
          "data": {
            "text/plain": [
              "['A', 'B', 'C', 'D', 'E', 'F', 'G']"
            ]
          },
          "metadata": {
            "tags": []
          },
          "execution_count": 288
        }
      ]
    },
    {
      "cell_type": "code",
      "metadata": {
        "id": "0T1nqgDBmCfB",
        "colab_type": "code",
        "colab": {
          "base_uri": "https://localhost:8080/",
          "height": 654
        },
        "outputId": "dad6cd74-e081-4ad8-9cc7-8540f84c73c9"
      },
      "source": [
        "sorted(df['sub_grade'].unique())"
      ],
      "execution_count": 289,
      "outputs": [
        {
          "output_type": "execute_result",
          "data": {
            "text/plain": [
              "['A1',\n",
              " 'A2',\n",
              " 'A3',\n",
              " 'A4',\n",
              " 'A5',\n",
              " 'B1',\n",
              " 'B2',\n",
              " 'B3',\n",
              " 'B4',\n",
              " 'B5',\n",
              " 'C1',\n",
              " 'C2',\n",
              " 'C3',\n",
              " 'C4',\n",
              " 'C5',\n",
              " 'D1',\n",
              " 'D2',\n",
              " 'D3',\n",
              " 'D4',\n",
              " 'D5',\n",
              " 'E1',\n",
              " 'E2',\n",
              " 'E3',\n",
              " 'E4',\n",
              " 'E5',\n",
              " 'F1',\n",
              " 'F2',\n",
              " 'F3',\n",
              " 'F4',\n",
              " 'F5',\n",
              " 'G1',\n",
              " 'G2',\n",
              " 'G3',\n",
              " 'G4',\n",
              " 'G5']"
            ]
          },
          "metadata": {
            "tags": []
          },
          "execution_count": 289
        }
      ]
    },
    {
      "cell_type": "markdown",
      "metadata": {
        "id": "1BSvVINm09ju",
        "colab_type": "text"
      },
      "source": [
        "Bar plots of **grade** that are based off the **loan_status** :"
      ]
    },
    {
      "cell_type": "code",
      "metadata": {
        "id": "upp3pv0HmCfK",
        "colab_type": "code",
        "colab": {
          "base_uri": "https://localhost:8080/",
          "height": 297
        },
        "outputId": "161c20b3-a6b8-4754-94e6-2858b7d5b7d3"
      },
      "source": [
        "sns.countplot(df['grade'], hue=df['loan_status'])"
      ],
      "execution_count": 290,
      "outputs": [
        {
          "output_type": "execute_result",
          "data": {
            "text/plain": [
              "<matplotlib.axes._subplots.AxesSubplot at 0x7faa83f87080>"
            ]
          },
          "metadata": {
            "tags": []
          },
          "execution_count": 290
        },
        {
          "output_type": "display_data",
          "data": {
            "image/png": "[encoded data removed]",
            "text/plain": [
              "<Figure size 432x288 with 1 Axes>"
            ]
          },
          "metadata": {
            "tags": [],
            "needs_background": "light"
          }
        }
      ]
    },
    {
      "cell_type": "markdown",
      "metadata": {
        "id": "JsYqM3NqjgBQ",
        "colab_type": "text"
      },
      "source": [
        "we can see that F and G grade are the worst grade categories,\n",
        "it looks like the charged off rate is almost the same as the fully paid rate so it should consider if it's worth to give these people loans."
      ]
    },
    {
      "cell_type": "markdown",
      "metadata": {
        "id": "C1kGeVTD2BEO",
        "colab_type": "text"
      },
      "source": [
        "Bar plots of **Sub-grade** that are based off the **loan_status** :"
      ]
    },
    {
      "cell_type": "code",
      "metadata": {
        "id": "4wdtO6MjmCfQ",
        "colab_type": "code",
        "colab": {
          "base_uri": "https://localhost:8080/",
          "height": 298
        },
        "outputId": "8bbc473c-32d6-4d6e-f811-91d4334be11e"
      },
      "source": [
        "plt.figure(figsize=(14,4))\n",
        "sns.countplot(df['sub_grade'] ,hue = df['loan_status'], order=sorted(df['sub_grade'].unique())  )"
      ],
      "execution_count": 291,
      "outputs": [
        {
          "output_type": "execute_result",
          "data": {
            "text/plain": [
              "<matplotlib.axes._subplots.AxesSubplot at 0x7faa83f3fc50>"
            ]
          },
          "metadata": {
            "tags": []
          },
          "execution_count": 291
        },
        {
          "output_type": "display_data",
          "data": {
            "image/png": "[encoded data removed]",
            "text/plain": [
              "<Figure size 1008x288 with 1 Axes>"
            ]
          },
          "metadata": {
            "tags": [],
            "needs_background": "light"
          }
        }
      ]
    },
    {
      "cell_type": "markdown",
      "metadata": {
        "id": "ZuEaHOWxkth9",
        "colab_type": "text"
      },
      "source": [
        "Let's zoom in to F and G grades by subset of the data frame:"
      ]
    },
    {
      "cell_type": "code",
      "metadata": {
        "id": "nsI5Q_WJmCfW",
        "colab_type": "code",
        "colab": {
          "base_uri": "https://localhost:8080/",
          "height": 298
        },
        "outputId": "c334b98c-44ca-4ecd-d672-2fc70a28b319"
      },
      "source": [
        "plt.figure(figsize=(14,4))\n",
        "masc = df[(df['grade'] == 'G') | (df['grade'] == 'F') ]\n",
        "ordered = sorted(masc['sub_grade'].unique())\n",
        "sns.countplot( masc['sub_grade'] , hue = df['loan_status'], order=ordered   )\n"
      ],
      "execution_count": 292,
      "outputs": [
        {
          "output_type": "execute_result",
          "data": {
            "text/plain": [
              "<matplotlib.axes._subplots.AxesSubplot at 0x7faa89375eb8>"
            ]
          },
          "metadata": {
            "tags": []
          },
          "execution_count": 292
        },
        {
          "output_type": "display_data",
          "data": {
            "image/png": "[encoded data removed]",
            "text/plain": [
              "<Figure size 1008x288 with 1 Axes>"
            ]
          },
          "metadata": {
            "tags": [],
            "needs_background": "light"
          }
        }
      ]
    },
    {
      "cell_type": "markdown",
      "metadata": {
        "id": "ursisGZSmCfa",
        "colab_type": "text"
      },
      "source": [
        "We can see the fully paid status versus charge off status for these essentially\n",
        "worse sub grades.\n",
        "the likelihood is almost the same as fully paying off your loan versus being charged off on the loan.\n",
        "\n",
        "----\n"
      ]
    },
    {
      "cell_type": "markdown",
      "metadata": {
        "id": "4zvOZIVLmCfg",
        "colab_type": "text"
      },
      "source": [
        "\n",
        "##Creating a new column called 'loan_repaid' which will contain a 1 if the loan status was \"Fully Paid\" and a 0 if it was \"Charged Off\"."
      ]
    },
    {
      "cell_type": "code",
      "metadata": {
        "id": "j2HxM6cVmCfh",
        "colab_type": "code",
        "colab": {}
      },
      "source": [
        "# CODE HERE\n",
        "def converting(returned) :\n",
        "    if returned == 'Fully Paid' :\n",
        "        return 1\n",
        "    elif returned == 'Charged Off' :\n",
        "        return 0\n",
        "\n",
        "    "
      ],
      "execution_count": 293,
      "outputs": []
    },
    {
      "cell_type": "code",
      "metadata": {
        "id": "xePSQXO7mCfj",
        "colab_type": "code",
        "colab": {}
      },
      "source": [
        "df['loan_repaid'] = df['loan_status'].apply(converting)\n",
        "# df['loan_repaid'] = df['loan_status'].map({'Fully Paid':1,'Charged Off':0})"
      ],
      "execution_count": 294,
      "outputs": []
    },
    {
      "cell_type": "code",
      "metadata": {
        "id": "MTmLmUMrmCfn",
        "colab_type": "code",
        "colab": {
          "base_uri": "https://localhost:8080/",
          "height": 407
        },
        "outputId": "943fb851-97eb-4492-8838-fe1ddec98c81"
      },
      "source": [
        "df[['loan_repaid','loan_status']]"
      ],
      "execution_count": 295,
      "outputs": [
        {
          "output_type": "execute_result",
          "data": {
            "text/html": [
              "<div>\n",
              "<style scoped>\n",
              "    .dataframe tbody tr th:only-of-type {\n",
              "        vertical-align: middle;\n",
              "    }\n",
              "\n",
              "    .dataframe tbody tr th {\n",
              "        vertical-align: top;\n",
              "    }\n",
              "\n",
              "    .dataframe thead th {\n",
              "        text-align: right;\n",
              "    }\n",
              "</style>\n",
              "<table border=\"1\" class=\"dataframe\">\n",
              "  <thead>\n",
              "    <tr style=\"text-align: right;\">\n",
              "      <th></th>\n",
              "      <th>loan_repaid</th>\n",
              "      <th>loan_status</th>\n",
              "    </tr>\n",
              "  </thead>\n",
              "  <tbody>\n",
              "    <tr>\n",
              "      <th>0</th>\n",
              "      <td>1</td>\n",
              "      <td>Fully Paid</td>\n",
              "    </tr>\n",
              "    <tr>\n",
              "      <th>1</th>\n",
              "      <td>1</td>\n",
              "      <td>Fully Paid</td>\n",
              "    </tr>\n",
              "    <tr>\n",
              "      <th>2</th>\n",
              "      <td>1</td>\n",
              "      <td>Fully Paid</td>\n",
              "    </tr>\n",
              "    <tr>\n",
              "      <th>3</th>\n",
              "      <td>1</td>\n",
              "      <td>Fully Paid</td>\n",
              "    </tr>\n",
              "    <tr>\n",
              "      <th>4</th>\n",
              "      <td>0</td>\n",
              "      <td>Charged Off</td>\n",
              "    </tr>\n",
              "    <tr>\n",
              "      <th>...</th>\n",
              "      <td>...</td>\n",
              "      <td>...</td>\n",
              "    </tr>\n",
              "    <tr>\n",
              "      <th>396025</th>\n",
              "      <td>1</td>\n",
              "      <td>Fully Paid</td>\n",
              "    </tr>\n",
              "    <tr>\n",
              "      <th>396026</th>\n",
              "      <td>1</td>\n",
              "      <td>Fully Paid</td>\n",
              "    </tr>\n",
              "    <tr>\n",
              "      <th>396027</th>\n",
              "      <td>1</td>\n",
              "      <td>Fully Paid</td>\n",
              "    </tr>\n",
              "    <tr>\n",
              "      <th>396028</th>\n",
              "      <td>1</td>\n",
              "      <td>Fully Paid</td>\n",
              "    </tr>\n",
              "    <tr>\n",
              "      <th>396029</th>\n",
              "      <td>1</td>\n",
              "      <td>Fully Paid</td>\n",
              "    </tr>\n",
              "  </tbody>\n",
              "</table>\n",
              "<p>396030 rows × 2 columns</p>\n",
              "</div>"
            ],
            "text/plain": [
              "        loan_repaid  loan_status\n",
              "0       1            Fully Paid \n",
              "1       1            Fully Paid \n",
              "2       1            Fully Paid \n",
              "3       1            Fully Paid \n",
              "4       0            Charged Off\n",
              "...    ..                    ...\n",
              "396025  1            Fully Paid \n",
              "396026  1            Fully Paid \n",
              "396027  1            Fully Paid \n",
              "396028  1            Fully Paid \n",
              "396029  1            Fully Paid \n",
              "\n",
              "[396030 rows x 2 columns]"
            ]
          },
          "metadata": {
            "tags": []
          },
          "execution_count": 295
        }
      ]
    },
    {
      "cell_type": "markdown",
      "metadata": {
        "id": "p4KSJYWp2ZDj",
        "colab_type": "text"
      },
      "source": [
        "Bar plot that show the correlation of the numeric features to the new loan_repaid column:"
      ]
    },
    {
      "cell_type": "code",
      "metadata": {
        "id": "Vv2muf1UmCfy",
        "colab_type": "code",
        "colab": {
          "base_uri": "https://localhost:8080/",
          "height": 383
        },
        "outputId": "7fa17dd0-5931-4f68-907e-4f3ae9f5fc70"
      },
      "source": [
        "#df.corr()['loan_repaid'][:-1].sort_values().plot(kind = 'bar')\n",
        "df.corr()['loan_repaid'].sort_values().drop('loan_repaid').plot(kind='bar' )"
      ],
      "execution_count": 296,
      "outputs": [
        {
          "output_type": "execute_result",
          "data": {
            "text/plain": [
              "<matplotlib.axes._subplots.AxesSubplot at 0x7faa84319940>"
            ]
          },
          "metadata": {
            "tags": []
          },
          "execution_count": 296
        },
        {
          "output_type": "display_data",
          "data": {
            "image/png": "[encoded data removed]",
            "text/plain": [
              "<Figure size 432x288 with 1 Axes>"
            ]
          },
          "metadata": {
            "tags": [],
            "needs_background": "light"
          }
        }
      ]
    },
    {
      "cell_type": "markdown",
      "metadata": {
        "id": "LKkuUWozmCfx",
        "colab_type": "text"
      },
      "source": [
        "\n",
        "**interest rate**  has essentially the highest negative correlation with whether or not someone's going to repay their loan which kind of makes sense.\n",
        "extremely high interest it's a cause to find it harder to pay off a loan."
      ]
    },
    {
      "cell_type": "markdown",
      "metadata": {
        "id": "KxhRIhyzmCf6",
        "colab_type": "text"
      },
      "source": [
        "---\n",
        "---\n",
        "# Section 2: Data PreProcessing\n",
        "\n",
        " Goals: \n",
        " \n",
        "\n",
        "*   Removing or filling any missing data. \n",
        "*   Removing unnecessary or repetitive features. \n",
        "*   Converting categorical string features to dummy variables.\n",
        "\n"
      ]
    },
    {
      "cell_type": "code",
      "metadata": {
        "id": "SAYnl3hZmCf8",
        "colab_type": "code",
        "colab": {
          "base_uri": "https://localhost:8080/",
          "height": 391
        },
        "outputId": "4811e653-0e2c-45fa-9fe2-303fc76c054e"
      },
      "source": [
        "df.head()"
      ],
      "execution_count": 297,
      "outputs": [
        {
          "output_type": "execute_result",
          "data": {
            "text/html": [
              "<div>\n",
              "<style scoped>\n",
              "    .dataframe tbody tr th:only-of-type {\n",
              "        vertical-align: middle;\n",
              "    }\n",
              "\n",
              "    .dataframe tbody tr th {\n",
              "        vertical-align: top;\n",
              "    }\n",
              "\n",
              "    .dataframe thead th {\n",
              "        text-align: right;\n",
              "    }\n",
              "</style>\n",
              "<table border=\"1\" class=\"dataframe\">\n",
              "  <thead>\n",
              "    <tr style=\"text-align: right;\">\n",
              "      <th></th>\n",
              "      <th>loan_amnt</th>\n",
              "      <th>term</th>\n",
              "      <th>int_rate</th>\n",
              "      <th>installment</th>\n",
              "      <th>grade</th>\n",
              "      <th>sub_grade</th>\n",
              "      <th>emp_title</th>\n",
              "      <th>emp_length</th>\n",
              "      <th>home_ownership</th>\n",
              "      <th>annual_inc</th>\n",
              "      <th>verification_status</th>\n",
              "      <th>issue_d</th>\n",
              "      <th>loan_status</th>\n",
              "      <th>purpose</th>\n",
              "      <th>title</th>\n",
              "      <th>dti</th>\n",
              "      <th>earliest_cr_line</th>\n",
              "      <th>open_acc</th>\n",
              "      <th>pub_rec</th>\n",
              "      <th>revol_bal</th>\n",
              "      <th>revol_util</th>\n",
              "      <th>total_acc</th>\n",
              "      <th>initial_list_status</th>\n",
              "      <th>application_type</th>\n",
              "      <th>mort_acc</th>\n",
              "      <th>pub_rec_bankruptcies</th>\n",
              "      <th>address</th>\n",
              "      <th>loan_repaid</th>\n",
              "    </tr>\n",
              "  </thead>\n",
              "  <tbody>\n",
              "    <tr>\n",
              "      <th>0</th>\n",
              "      <td>10000.0</td>\n",
              "      <td>36 months</td>\n",
              "      <td>11.44</td>\n",
              "      <td>329.48</td>\n",
              "      <td>B</td>\n",
              "      <td>B4</td>\n",
              "      <td>Marketing</td>\n",
              "      <td>10+ years</td>\n",
              "      <td>RENT</td>\n",
              "      <td>117000.0</td>\n",
              "      <td>Not Verified</td>\n",
              "      <td>Jan-2015</td>\n",
              "      <td>Fully Paid</td>\n",
              "      <td>vacation</td>\n",
              "      <td>Vacation</td>\n",
              "      <td>26.24</td>\n",
              "      <td>Jun-1990</td>\n",
              "      <td>16.0</td>\n",
              "      <td>0.0</td>\n",
              "      <td>36369.0</td>\n",
              "      <td>41.8</td>\n",
              "      <td>25.0</td>\n",
              "      <td>w</td>\n",
              "      <td>INDIVIDUAL</td>\n",
              "      <td>0.0</td>\n",
              "      <td>0.0</td>\n",
              "      <td>0174 Michelle Gateway\\nMendozaberg, OK 22690</td>\n",
              "      <td>1</td>\n",
              "    </tr>\n",
              "    <tr>\n",
              "      <th>1</th>\n",
              "      <td>8000.0</td>\n",
              "      <td>36 months</td>\n",
              "      <td>11.99</td>\n",
              "      <td>265.68</td>\n",
              "      <td>B</td>\n",
              "      <td>B5</td>\n",
              "      <td>Credit analyst</td>\n",
              "      <td>4 years</td>\n",
              "      <td>MORTGAGE</td>\n",
              "      <td>65000.0</td>\n",
              "      <td>Not Verified</td>\n",
              "      <td>Jan-2015</td>\n",
              "      <td>Fully Paid</td>\n",
              "      <td>debt_consolidation</td>\n",
              "      <td>Debt consolidation</td>\n",
              "      <td>22.05</td>\n",
              "      <td>Jul-2004</td>\n",
              "      <td>17.0</td>\n",
              "      <td>0.0</td>\n",
              "      <td>20131.0</td>\n",
              "      <td>53.3</td>\n",
              "      <td>27.0</td>\n",
              "      <td>f</td>\n",
              "      <td>INDIVIDUAL</td>\n",
              "      <td>3.0</td>\n",
              "      <td>0.0</td>\n",
              "      <td>1076 Carney Fort Apt. 347\\nLoganmouth, SD 05113</td>\n",
              "      <td>1</td>\n",
              "    </tr>\n",
              "    <tr>\n",
              "      <th>2</th>\n",
              "      <td>15600.0</td>\n",
              "      <td>36 months</td>\n",
              "      <td>10.49</td>\n",
              "      <td>506.97</td>\n",
              "      <td>B</td>\n",
              "      <td>B3</td>\n",
              "      <td>Statistician</td>\n",
              "      <td>&lt; 1 year</td>\n",
              "      <td>RENT</td>\n",
              "      <td>43057.0</td>\n",
              "      <td>Source Verified</td>\n",
              "      <td>Jan-2015</td>\n",
              "      <td>Fully Paid</td>\n",
              "      <td>credit_card</td>\n",
              "      <td>Credit card refinancing</td>\n",
              "      <td>12.79</td>\n",
              "      <td>Aug-2007</td>\n",
              "      <td>13.0</td>\n",
              "      <td>0.0</td>\n",
              "      <td>11987.0</td>\n",
              "      <td>92.2</td>\n",
              "      <td>26.0</td>\n",
              "      <td>f</td>\n",
              "      <td>INDIVIDUAL</td>\n",
              "      <td>0.0</td>\n",
              "      <td>0.0</td>\n",
              "      <td>87025 Mark Dale Apt. 269\\nNew Sabrina, WV 05113</td>\n",
              "      <td>1</td>\n",
              "    </tr>\n",
              "    <tr>\n",
              "      <th>3</th>\n",
              "      <td>7200.0</td>\n",
              "      <td>36 months</td>\n",
              "      <td>6.49</td>\n",
              "      <td>220.65</td>\n",
              "      <td>A</td>\n",
              "      <td>A2</td>\n",
              "      <td>Client Advocate</td>\n",
              "      <td>6 years</td>\n",
              "      <td>RENT</td>\n",
              "      <td>54000.0</td>\n",
              "      <td>Not Verified</td>\n",
              "      <td>Nov-2014</td>\n",
              "      <td>Fully Paid</td>\n",
              "      <td>credit_card</td>\n",
              "      <td>Credit card refinancing</td>\n",
              "      <td>2.60</td>\n",
              "      <td>Sep-2006</td>\n",
              "      <td>6.0</td>\n",
              "      <td>0.0</td>\n",
              "      <td>5472.0</td>\n",
              "      <td>21.5</td>\n",
              "      <td>13.0</td>\n",
              "      <td>f</td>\n",
              "      <td>INDIVIDUAL</td>\n",
              "      <td>0.0</td>\n",
              "      <td>0.0</td>\n",
              "      <td>823 Reid Ford\\nDelacruzside, MA 00813</td>\n",
              "      <td>1</td>\n",
              "    </tr>\n",
              "    <tr>\n",
              "      <th>4</th>\n",
              "      <td>24375.0</td>\n",
              "      <td>60 months</td>\n",
              "      <td>17.27</td>\n",
              "      <td>609.33</td>\n",
              "      <td>C</td>\n",
              "      <td>C5</td>\n",
              "      <td>Destiny Management Inc.</td>\n",
              "      <td>9 years</td>\n",
              "      <td>MORTGAGE</td>\n",
              "      <td>55000.0</td>\n",
              "      <td>Verified</td>\n",
              "      <td>Apr-2013</td>\n",
              "      <td>Charged Off</td>\n",
              "      <td>credit_card</td>\n",
              "      <td>Credit Card Refinance</td>\n",
              "      <td>33.95</td>\n",
              "      <td>Mar-1999</td>\n",
              "      <td>13.0</td>\n",
              "      <td>0.0</td>\n",
              "      <td>24584.0</td>\n",
              "      <td>69.8</td>\n",
              "      <td>43.0</td>\n",
              "      <td>f</td>\n",
              "      <td>INDIVIDUAL</td>\n",
              "      <td>1.0</td>\n",
              "      <td>0.0</td>\n",
              "      <td>679 Luna Roads\\nGreggshire, VA 11650</td>\n",
              "      <td>0</td>\n",
              "    </tr>\n",
              "  </tbody>\n",
              "</table>\n",
              "</div>"
            ],
            "text/plain": [
              "   loan_amnt  ... loan_repaid\n",
              "0  10000.0    ...  1         \n",
              "1  8000.0     ...  1         \n",
              "2  15600.0    ...  1         \n",
              "3  7200.0     ...  1         \n",
              "4  24375.0    ...  0         \n",
              "\n",
              "[5 rows x 28 columns]"
            ]
          },
          "metadata": {
            "tags": []
          },
          "execution_count": 297
        }
      ]
    },
    {
      "cell_type": "markdown",
      "metadata": {
        "id": "09-tEkDLmCgB",
        "colab_type": "text"
      },
      "source": [
        "## Missing Data\n",
        "\n",
        "exploring the missing data columns. using factors to decide whether or not they would be useful, to see if we should keep, discard, or fill in the missing data."
      ]
    },
    {
      "cell_type": "markdown",
      "metadata": {
        "id": "Cz-GV1FgmCgB",
        "colab_type": "text"
      },
      "source": [
        "The length of the dataframe:"
      ]
    },
    {
      "cell_type": "code",
      "metadata": {
        "id": "QNOCMgi5mCgC",
        "colab_type": "code",
        "colab": {
          "base_uri": "https://localhost:8080/",
          "height": 35
        },
        "outputId": "58408d88-687c-4030-d0cc-22255fd858b2"
      },
      "source": [
        "\n",
        "df.shape[0]\n",
        "#len(df)"
      ],
      "execution_count": 298,
      "outputs": [
        {
          "output_type": "execute_result",
          "data": {
            "text/plain": [
              "396030"
            ]
          },
          "metadata": {
            "tags": []
          },
          "execution_count": 298
        }
      ]
    },
    {
      "cell_type": "markdown",
      "metadata": {
        "id": "LoOZMTf1mCgN",
        "colab_type": "text"
      },
      "source": [
        "Displaying the total count of missing values per column (count and precentage)\n",
        "shows that we have missing values of employment title ,employment length ,title,\n",
        "mort_acc and also public record of bankruptcies."
      ]
    },
    {
      "cell_type": "code",
      "metadata": {
        "id": "qtgJrcjemCgO",
        "colab_type": "code",
        "colab": {
          "base_uri": "https://localhost:8080/",
          "height": 545
        },
        "outputId": "facd91dd-c3de-4a7b-8175-ad405304e9f1"
      },
      "source": [
        "df.isnull().sum()\n"
      ],
      "execution_count": 299,
      "outputs": [
        {
          "output_type": "execute_result",
          "data": {
            "text/plain": [
              "loan_amnt               0    \n",
              "term                    0    \n",
              "int_rate                0    \n",
              "installment             0    \n",
              "grade                   0    \n",
              "sub_grade               0    \n",
              "emp_title               22927\n",
              "emp_length              18301\n",
              "home_ownership          0    \n",
              "annual_inc              0    \n",
              "verification_status     0    \n",
              "issue_d                 0    \n",
              "loan_status             0    \n",
              "purpose                 0    \n",
              "title                   1755 \n",
              "dti                     0    \n",
              "earliest_cr_line        0    \n",
              "open_acc                0    \n",
              "pub_rec                 0    \n",
              "revol_bal               0    \n",
              "revol_util              276  \n",
              "total_acc               0    \n",
              "initial_list_status     0    \n",
              "application_type        0    \n",
              "mort_acc                37795\n",
              "pub_rec_bankruptcies    535  \n",
              "address                 0    \n",
              "loan_repaid             0    \n",
              "dtype: int64"
            ]
          },
          "metadata": {
            "tags": []
          },
          "execution_count": 299
        }
      ]
    },
    {
      "cell_type": "markdown",
      "metadata": {
        "id": "IjIwHkP83MiE",
        "colab_type": "text"
      },
      "source": [
        "In percentage :"
      ]
    },
    {
      "cell_type": "code",
      "metadata": {
        "id": "-6ViH7iKmCgQ",
        "colab_type": "code",
        "colab": {
          "base_uri": "https://localhost:8080/",
          "height": 545
        },
        "outputId": "b2574fcd-3808-4e09-e474-d266d1d0e1bb"
      },
      "source": [
        "df.isnull().sum()*100/ len(df)"
      ],
      "execution_count": 300,
      "outputs": [
        {
          "output_type": "execute_result",
          "data": {
            "text/plain": [
              "loan_amnt               0.000000\n",
              "term                    0.000000\n",
              "int_rate                0.000000\n",
              "installment             0.000000\n",
              "grade                   0.000000\n",
              "sub_grade               0.000000\n",
              "emp_title               5.789208\n",
              "emp_length              4.621115\n",
              "home_ownership          0.000000\n",
              "annual_inc              0.000000\n",
              "verification_status     0.000000\n",
              "issue_d                 0.000000\n",
              "loan_status             0.000000\n",
              "purpose                 0.000000\n",
              "title                   0.443148\n",
              "dti                     0.000000\n",
              "earliest_cr_line        0.000000\n",
              "open_acc                0.000000\n",
              "pub_rec                 0.000000\n",
              "revol_bal               0.000000\n",
              "revol_util              0.069692\n",
              "total_acc               0.000000\n",
              "initial_list_status     0.000000\n",
              "application_type        0.000000\n",
              "mort_acc                9.543469\n",
              "pub_rec_bankruptcies    0.135091\n",
              "address                 0.000000\n",
              "loan_repaid             0.000000\n",
              "dtype: float64"
            ]
          },
          "metadata": {
            "tags": []
          },
          "execution_count": 300
        }
      ]
    },
    {
      "cell_type": "markdown",
      "metadata": {
        "id": "iZ4CGMrx5XdU",
        "colab_type": "text"
      },
      "source": [
        "So it looks like we need to focus on mortgage accounts because we can't\n",
        "drop 10 percent of our data.\n",
        "Some of these are so minor and are less than half a percent of our data, so it's ok to drop some of these."
      ]
    },
    {
      "cell_type": "markdown",
      "metadata": {
        "id": "duL48HENmCgg",
        "colab_type": "text"
      },
      "source": [
        "We should examin of **emp_title** (The job title supplied by the Borrower) and **emp_length** (Employment length in years) to see whether it will be okay to drop them.\n",
        "\n",
        "The unique values that are in the 'emp_title':"
      ]
    },
    {
      "cell_type": "code",
      "metadata": {
        "id": "Iv4KyjlAmCgm",
        "colab_type": "code",
        "colab": {
          "base_uri": "https://localhost:8080/",
          "height": 35
        },
        "outputId": "6f371dac-2a5c-4c68-9a25-b781c03bf7d9"
      },
      "source": [
        "len(df['emp_title'].unique())"
      ],
      "execution_count": 301,
      "outputs": [
        {
          "output_type": "execute_result",
          "data": {
            "text/plain": [
              "173106"
            ]
          },
          "metadata": {
            "tags": []
          },
          "execution_count": 301
        }
      ]
    },
    {
      "cell_type": "code",
      "metadata": {
        "id": "WaOMyWlQmCgp",
        "colab_type": "code",
        "colab": {
          "base_uri": "https://localhost:8080/",
          "height": 235
        },
        "outputId": "5e24c944-1ad8-43e4-8df2-7b2df0365b8a"
      },
      "source": [
        "df['emp_title'].value_counts()"
      ],
      "execution_count": 302,
      "outputs": [
        {
          "output_type": "execute_result",
          "data": {
            "text/plain": [
              "Teacher                                  4389\n",
              "Manager                                  4250\n",
              "Registered Nurse                         1856\n",
              "RN                                       1846\n",
              "Supervisor                               1830\n",
              "                                         ... \n",
              "public housing development specialist    1   \n",
              "littletokyo restaurant                   1   \n",
              "FTN Financial                            1   \n",
              "Welding Superintendent                   1   \n",
              "Cititbank                                1   \n",
              "Name: emp_title, Length: 173105, dtype: int64"
            ]
          },
          "metadata": {
            "tags": []
          },
          "execution_count": 302
        }
      ]
    },
    {
      "cell_type": "markdown",
      "metadata": {
        "id": "3mG2q478mCgm",
        "colab_type": "text"
      },
      "source": [
        "there are too many uniques emp_title and it's not informative to convert this to meaningful dummy variable feature, so instead of that it's preferable to remove that title because it's not  be useful to us ."
      ]
    },
    {
      "cell_type": "code",
      "metadata": {
        "id": "RGRb-toMmCgu",
        "colab_type": "code",
        "colab": {}
      },
      "source": [
        "df = df.drop('emp_title', axis = 1 )"
      ],
      "execution_count": 303,
      "outputs": []
    },
    {
      "cell_type": "markdown",
      "metadata": {
        "id": "9ANWYbeemChA",
        "colab_type": "text"
      },
      "source": [
        "----\n",
        "\n",
        "Creating a count plot of the emp_length feature column:"
      ]
    },
    {
      "cell_type": "code",
      "metadata": {
        "id": "TylUo7KQmChB",
        "colab_type": "code",
        "colab": {
          "base_uri": "https://localhost:8080/",
          "height": 217
        },
        "outputId": "03b2a6a6-9266-460a-ecbc-0c1932a01da3"
      },
      "source": [
        "sorted(df['emp_length'].dropna().unique())"
      ],
      "execution_count": 304,
      "outputs": [
        {
          "output_type": "execute_result",
          "data": {
            "text/plain": [
              "['1 year',\n",
              " '10+ years',\n",
              " '2 years',\n",
              " '3 years',\n",
              " '4 years',\n",
              " '5 years',\n",
              " '6 years',\n",
              " '7 years',\n",
              " '8 years',\n",
              " '9 years',\n",
              " '< 1 year']"
            ]
          },
          "metadata": {
            "tags": []
          },
          "execution_count": 304
        }
      ]
    },
    {
      "cell_type": "code",
      "metadata": {
        "id": "_4wg0InSmChD",
        "colab_type": "code",
        "colab": {}
      },
      "source": [
        "arr_sorted = [\n",
        " '< 1 year',\n",
        "'1 year',\n",
        " '2 years',\n",
        " '3 years',\n",
        " '4 years',\n",
        " '5 years',\n",
        " '6 years',\n",
        " '7 years',\n",
        " '8 years',\n",
        " '9 years',\n",
        "'10+ years',]"
      ],
      "execution_count": 305,
      "outputs": []
    },
    {
      "cell_type": "code",
      "metadata": {
        "id": "xIiq_AzOmChG",
        "colab_type": "code",
        "colab": {
          "base_uri": "https://localhost:8080/",
          "height": 298
        },
        "outputId": "2dbe53d8-59c6-4cb8-e566-b4a4fb633401"
      },
      "source": [
        "plt.figure(figsize=(14,4))\n",
        "sns.countplot(df['emp_length'], palette = 'viridis', order=arr_sorted )"
      ],
      "execution_count": 306,
      "outputs": [
        {
          "output_type": "execute_result",
          "data": {
            "text/plain": [
              "<matplotlib.axes._subplots.AxesSubplot at 0x7faa83d4ab38>"
            ]
          },
          "metadata": {
            "tags": []
          },
          "execution_count": 306
        },
        {
          "output_type": "display_data",
          "data": {
            "image/png": "[encoded data removed]",
            "text/plain": [
              "<Figure size 1008x288 with 1 Axes>"
            ]
          },
          "metadata": {
            "tags": [],
            "needs_background": "light"
          }
        }
      ]
    },
    {
      "cell_type": "markdown",
      "metadata": {
        "id": "Qmw7Qu5v9LJu",
        "colab_type": "text"
      },
      "source": [
        "\n",
        "It looks like quite the majority of people have been working in their employment for 10 plus years, which makes sense if you're taking a loan you're very likely to have a job, otherwise how are you going to pay it back.\n",
        "\n",
        "So most people have been working for more than a year .\n"
      ]
    },
    {
      "cell_type": "markdown",
      "metadata": {
        "id": "W90h-1o891dI",
        "colab_type": "text"
      },
      "source": [
        "\n",
        "\n",
        "The relationship between fully paid off versus charged off per employment length represeted by the following countplot:\n",
        "\n",
        "It looks like the ratio of the Fully Paid and the Charged off is essentially the same across all these employment length categories then this isn't a very informative feature."
      ]
    },
    {
      "cell_type": "code",
      "metadata": {
        "id": "iR-Ocg6KmChN",
        "colab_type": "code",
        "colab": {
          "base_uri": "https://localhost:8080/",
          "height": 298
        },
        "outputId": "333b07c3-d02d-4196-a989-6f066acad5b4"
      },
      "source": [
        "plt.figure(figsize=(14,4))\n",
        "sns.countplot(df['emp_length'],  order=arr_sorted, hue = df['loan_status'] )"
      ],
      "execution_count": 307,
      "outputs": [
        {
          "output_type": "execute_result",
          "data": {
            "text/plain": [
              "<matplotlib.axes._subplots.AxesSubplot at 0x7faa841ca320>"
            ]
          },
          "metadata": {
            "tags": []
          },
          "execution_count": 307
        },
        {
          "output_type": "display_data",
          "data": {
            "image/png": "[encoded data removed]",
            "text/plain": [
              "<Figure size 1008x288 with 1 Axes>"
            ]
          },
          "metadata": {
            "tags": [],
            "needs_background": "light"
          }
        }
      ]
    },
    {
      "cell_type": "markdown",
      "metadata": {
        "id": "zNJlyCuimChP",
        "colab_type": "text"
      },
      "source": [
        "This still doesn't really inform us if there is a strong relationship between employment length and being charged off, what would be meaningful is the percentage of charge offs per category. \n",
        "\n",
        "What percent of people per employment category didn't pay back their loan ?"
      ]
    },
    {
      "cell_type": "code",
      "metadata": {
        "id": "n-GqCupTmChS",
        "colab_type": "code",
        "colab": {}
      },
      "source": [
        "df_group_ChargedOff = (df[df['loan_status'] == 'Charged Off'].groupby(['emp_length'])['emp_length'].count())\n",
        "df_group_fullyPaid = df[df['loan_status'] == 'Fully Paid'].groupby(['emp_length'])['emp_length'].count()"
      ],
      "execution_count": 308,
      "outputs": []
    },
    {
      "cell_type": "code",
      "metadata": {
        "id": "SvGFe1GpmChX",
        "colab_type": "code",
        "colab": {}
      },
      "source": [
        "precentage = df_group_ChargedOff*100/( df_group_fullyPaid +df_group_ChargedOff)"
      ],
      "execution_count": 309,
      "outputs": []
    },
    {
      "cell_type": "code",
      "metadata": {
        "id": "vMYvsicsmChY",
        "colab_type": "code",
        "colab": {
          "base_uri": "https://localhost:8080/",
          "height": 254
        },
        "outputId": "eaf1b19a-0c23-4554-b107-399c78305a35"
      },
      "source": [
        "precentage"
      ],
      "execution_count": 310,
      "outputs": [
        {
          "output_type": "execute_result",
          "data": {
            "text/plain": [
              "emp_length\n",
              "1 year       19.913453\n",
              "10+ years    18.418610\n",
              "2 years      19.326206\n",
              "3 years      19.523133\n",
              "4 years      19.238477\n",
              "5 years      19.218721\n",
              "6 years      18.919438\n",
              "7 years      19.477400\n",
              "8 years      19.976002\n",
              "9 years      20.047016\n",
              "< 1 year     20.687155\n",
              "Name: emp_length, dtype: float64"
            ]
          },
          "metadata": {
            "tags": []
          },
          "execution_count": 310
        }
      ]
    },
    {
      "cell_type": "markdown",
      "metadata": {
        "id": "9fqOcLkaBCuz",
        "colab_type": "text"
      },
      "source": [
        "So it looks like this particular feature of employment length doesn't actually have some extreme differences on the charge off rates.\n",
        "\n",
        "So it looks like regardless of what actual employment length you have if you were to pick someone about 20% of them are going to have not paid back their loans."
      ]
    },
    {
      "cell_type": "markdown",
      "metadata": {
        "id": "Oxy_m5gLmChf",
        "colab_type": "text"
      },
      "source": [
        "droping the emp_length column:"
      ]
    },
    {
      "cell_type": "code",
      "metadata": {
        "id": "EKrS6_h3mChk",
        "colab_type": "code",
        "colab": {}
      },
      "source": [
        "df.drop('emp_length' , axis= 1 ,inplace = True)\n"
      ],
      "execution_count": 311,
      "outputs": []
    },
    {
      "cell_type": "markdown",
      "metadata": {
        "id": "8DtVaGuFmChn",
        "colab_type": "text"
      },
      "source": [
        "Other feature columns still have missing data :"
      ]
    },
    {
      "cell_type": "code",
      "metadata": {
        "id": "yos6BylnmChn",
        "colab_type": "code",
        "colab": {
          "base_uri": "https://localhost:8080/",
          "height": 508
        },
        "outputId": "a6c040e1-4315-4e28-ac85-61c89ac5c718"
      },
      "source": [
        "df.isnull().sum()"
      ],
      "execution_count": 312,
      "outputs": [
        {
          "output_type": "execute_result",
          "data": {
            "text/plain": [
              "loan_amnt               0    \n",
              "term                    0    \n",
              "int_rate                0    \n",
              "installment             0    \n",
              "grade                   0    \n",
              "sub_grade               0    \n",
              "home_ownership          0    \n",
              "annual_inc              0    \n",
              "verification_status     0    \n",
              "issue_d                 0    \n",
              "loan_status             0    \n",
              "purpose                 0    \n",
              "title                   1755 \n",
              "dti                     0    \n",
              "earliest_cr_line        0    \n",
              "open_acc                0    \n",
              "pub_rec                 0    \n",
              "revol_bal               0    \n",
              "revol_util              276  \n",
              "total_acc               0    \n",
              "initial_list_status     0    \n",
              "application_type        0    \n",
              "mort_acc                37795\n",
              "pub_rec_bankruptcies    535  \n",
              "address                 0    \n",
              "loan_repaid             0    \n",
              "dtype: int64"
            ]
          },
          "metadata": {
            "tags": []
          },
          "execution_count": 312
        }
      ]
    },
    {
      "cell_type": "markdown",
      "metadata": {
        "id": "02t-LfYkmChs",
        "colab_type": "text"
      },
      "source": [
        "After reviewing the title column vs the purpose column -\n",
        "The title column is simply a string subcategory/description of the purpose column.  "
      ]
    },
    {
      "cell_type": "code",
      "metadata": {
        "id": "yq3fyhlcmChs",
        "colab_type": "code",
        "colab": {
          "base_uri": "https://localhost:8080/",
          "height": 217
        },
        "outputId": "9426f854-14f5-4173-ec38-57e2d1e0adee"
      },
      "source": [
        "df['purpose'].head(10)"
      ],
      "execution_count": 313,
      "outputs": [
        {
          "output_type": "execute_result",
          "data": {
            "text/plain": [
              "0    vacation          \n",
              "1    debt_consolidation\n",
              "2    credit_card       \n",
              "3    credit_card       \n",
              "4    credit_card       \n",
              "5    debt_consolidation\n",
              "6    home_improvement  \n",
              "7    credit_card       \n",
              "8    debt_consolidation\n",
              "9    debt_consolidation\n",
              "Name: purpose, dtype: object"
            ]
          },
          "metadata": {
            "tags": []
          },
          "execution_count": 313
        }
      ]
    },
    {
      "cell_type": "markdown",
      "metadata": {
        "id": "3fKjO4evCdn8",
        "colab_type": "text"
      },
      "source": [
        "Droping the title column:"
      ]
    },
    {
      "cell_type": "code",
      "metadata": {
        "id": "MGfa9l99mCh0",
        "colab_type": "code",
        "colab": {}
      },
      "source": [
        "df.drop('title' , axis= 1 ,inplace = True)"
      ],
      "execution_count": 314,
      "outputs": []
    },
    {
      "cell_type": "markdown",
      "metadata": {
        "id": "bF-HIedRDPBR",
        "colab_type": "text"
      },
      "source": [
        "##Filling in missing data based on the values of another column in the data frame:"
      ]
    },
    {
      "cell_type": "markdown",
      "metadata": {
        "id": "rDftsl4NmCh5",
        "colab_type": "text"
      },
      "source": [
        " **mort_acc** feature represents the number of mortgage accounts."
      ]
    },
    {
      "cell_type": "markdown",
      "metadata": {
        "id": "RwVYVE0_mCh-",
        "colab_type": "text"
      },
      "source": [
        " a value_counts of the mort_acc column:\n",
        "\n"
      ]
    },
    {
      "cell_type": "code",
      "metadata": {
        "id": "jZvYNr-7mCh-",
        "colab_type": "code",
        "colab": {
          "base_uri": "https://localhost:8080/",
          "height": 635
        },
        "outputId": "90c1ba51-0882-4935-c887-9be302f3136e"
      },
      "source": [
        "df['mort_acc'].value_counts()"
      ],
      "execution_count": 315,
      "outputs": [
        {
          "output_type": "execute_result",
          "data": {
            "text/plain": [
              "0.0     139777\n",
              "1.0     60416 \n",
              "2.0     49948 \n",
              "3.0     38049 \n",
              "4.0     27887 \n",
              "5.0     18194 \n",
              "6.0     11069 \n",
              "7.0     6052  \n",
              "8.0     3121  \n",
              "9.0     1656  \n",
              "10.0    865   \n",
              "11.0    479   \n",
              "12.0    264   \n",
              "13.0    146   \n",
              "14.0    107   \n",
              "15.0    61    \n",
              "16.0    37    \n",
              "17.0    22    \n",
              "18.0    18    \n",
              "19.0    15    \n",
              "20.0    13    \n",
              "24.0    10    \n",
              "22.0    7     \n",
              "21.0    4     \n",
              "25.0    4     \n",
              "27.0    3     \n",
              "23.0    2     \n",
              "32.0    2     \n",
              "26.0    2     \n",
              "31.0    2     \n",
              "30.0    1     \n",
              "28.0    1     \n",
              "34.0    1     \n",
              "Name: mort_acc, dtype: int64"
            ]
          },
          "metadata": {
            "tags": []
          },
          "execution_count": 315
        }
      ]
    },
    {
      "cell_type": "code",
      "metadata": {
        "id": "A8CA0cNZmCiA",
        "colab_type": "code",
        "colab": {
          "base_uri": "https://localhost:8080/",
          "height": 35
        },
        "outputId": "68f96b0b-c932-4a4d-ea53-973795901754"
      },
      "source": [
        "df['mort_acc'].shape[0]"
      ],
      "execution_count": 316,
      "outputs": [
        {
          "output_type": "execute_result",
          "data": {
            "text/plain": [
              "396030"
            ]
          },
          "metadata": {
            "tags": []
          },
          "execution_count": 316
        }
      ]
    },
    {
      "cell_type": "markdown",
      "metadata": {
        "id": "I_nlACiC4nBc",
        "colab_type": "text"
      },
      "source": [
        " It looks like the majority of people have zero other mortgage accounts and it looks like that's almost 25% of our data.\n",
        "missing values we have in this column : almost 10% of all our\n",
        "values are missing from this mortgage account number.\n",
        "So that means that we can't drop them."
      ]
    },
    {
      "cell_type": "markdown",
      "metadata": {
        "id": "8aSSI5RwmCiC",
        "colab_type": "text"
      },
      "source": [
        "We try to figure out which of the other features that we have, correlates highly with this mortgage accounts and see if we can use that to fill in our information based on the mean of the other columns.\n"
      ]
    },
    {
      "cell_type": "code",
      "metadata": {
        "id": "DaQw5ZBBmCiC",
        "colab_type": "code",
        "colab": {
          "base_uri": "https://localhost:8080/",
          "height": 272
        },
        "outputId": "e8245fbe-8134-4d9c-f4b2-888cc8246c87"
      },
      "source": [
        "df.corr()['mort_acc'].sort_values()"
      ],
      "execution_count": 317,
      "outputs": [
        {
          "output_type": "execute_result",
          "data": {
            "text/plain": [
              "int_rate               -0.082583\n",
              "dti                    -0.025439\n",
              "revol_util              0.007514\n",
              "pub_rec                 0.011552\n",
              "pub_rec_bankruptcies    0.027239\n",
              "loan_repaid             0.073111\n",
              "open_acc                0.109205\n",
              "installment             0.193694\n",
              "revol_bal               0.194925\n",
              "loan_amnt               0.222315\n",
              "annual_inc              0.236320\n",
              "total_acc               0.381072\n",
              "mort_acc                1.000000\n",
              "Name: mort_acc, dtype: float64"
            ]
          },
          "metadata": {
            "tags": []
          },
          "execution_count": 317
        }
      ]
    },
    {
      "cell_type": "markdown",
      "metadata": {
        "id": "YSVngnAvmCiG",
        "colab_type": "text"
      },
      "source": [
        "Looks like the **total_acc** (The total number of credit lines currently in the borrower's credit file) feature positive correlates with the **mort_acc** , this makes sense. We will group the dataframe by the total_acc and calculate the mean value for the mort_acc per total_acc entry. \n",
        "\n",
        "now we can see the average mortgage account value per total account grouping."
      ]
    },
    {
      "cell_type": "code",
      "metadata": {
        "id": "G9CscCGUmCiG",
        "colab_type": "code",
        "colab": {
          "base_uri": "https://localhost:8080/",
          "height": 254
        },
        "outputId": "26fd50d4-bed1-40d2-8565-4facac9c081b"
      },
      "source": [
        "avg_mort_acc_by_totalAcc = df.groupby(['total_acc'])['mort_acc'].mean()\n",
        "avg_mort_acc_by_totalAcc"
      ],
      "execution_count": 318,
      "outputs": [
        {
          "output_type": "execute_result",
          "data": {
            "text/plain": [
              "total_acc\n",
              "2.0      0.000000\n",
              "3.0      0.052023\n",
              "4.0      0.066743\n",
              "5.0      0.103289\n",
              "6.0      0.151293\n",
              "           ...   \n",
              "124.0    1.000000\n",
              "129.0    1.000000\n",
              "135.0    3.000000\n",
              "150.0    2.000000\n",
              "151.0    0.000000\n",
              "Name: mort_acc, Length: 118, dtype: float64"
            ]
          },
          "metadata": {
            "tags": []
          },
          "execution_count": 318
        }
      ]
    },
    {
      "cell_type": "markdown",
      "metadata": {
        "id": "cHKZ-mHNmCiK",
        "colab_type": "text"
      },
      "source": [
        "using this series we can fill in the missing mort_acc values based on their total_acc value.  \n",
        "If the mort_acc is missing, then we will fill in that missing value with the mean value corresponding to its total_acc value from the Series we created above. "
      ]
    },
    {
      "cell_type": "code",
      "metadata": {
        "id": "GPdg_epZmCiL",
        "colab_type": "code",
        "colab": {}
      },
      "source": [
        "def fill_mort (total_acc , mort_acc):\n",
        "    if np.isnan(mort_acc) :\n",
        "        return avg_mort_acc_by_totalAcc[total_acc]\n",
        "    else:\n",
        "        return mort_acc \n",
        "\n",
        "    "
      ],
      "execution_count": 319,
      "outputs": []
    },
    {
      "cell_type": "code",
      "metadata": {
        "id": "rBHP-HT7mCiM",
        "colab_type": "code",
        "colab": {}
      },
      "source": [
        "df['mort_acc'] = df.apply(lambda x : fill_mort(x['total_acc'],x['mort_acc']), axis = 1 )"
      ],
      "execution_count": 320,
      "outputs": []
    },
    {
      "cell_type": "code",
      "metadata": {
        "id": "Xc5JTroimCiN",
        "colab_type": "code",
        "colab": {
          "base_uri": "https://localhost:8080/",
          "height": 490
        },
        "outputId": "7fb32f0b-c1e7-4ad8-d1e4-3d4d5ffefe05"
      },
      "source": [
        "df.isnull().sum()\n"
      ],
      "execution_count": 321,
      "outputs": [
        {
          "output_type": "execute_result",
          "data": {
            "text/plain": [
              "loan_amnt               0  \n",
              "term                    0  \n",
              "int_rate                0  \n",
              "installment             0  \n",
              "grade                   0  \n",
              "sub_grade               0  \n",
              "home_ownership          0  \n",
              "annual_inc              0  \n",
              "verification_status     0  \n",
              "issue_d                 0  \n",
              "loan_status             0  \n",
              "purpose                 0  \n",
              "dti                     0  \n",
              "earliest_cr_line        0  \n",
              "open_acc                0  \n",
              "pub_rec                 0  \n",
              "revol_bal               0  \n",
              "revol_util              276\n",
              "total_acc               0  \n",
              "initial_list_status     0  \n",
              "application_type        0  \n",
              "mort_acc                0  \n",
              "pub_rec_bankruptcies    535\n",
              "address                 0  \n",
              "loan_repaid             0  \n",
              "dtype: int64"
            ]
          },
          "metadata": {
            "tags": []
          },
          "execution_count": 321
        }
      ]
    },
    {
      "cell_type": "markdown",
      "metadata": {
        "id": "LGT9hh30JhYk",
        "colab_type": "text"
      },
      "source": [
        "It should be notice that the mortgage account column is now at a 0 which leaves us with **revol_util** and **pub_rec_bankruptcies** that they left with missing data.\n",
        "\n",
        "However this is such a small percentage of our overall dataset so we can drop them."
      ]
    },
    {
      "cell_type": "code",
      "metadata": {
        "id": "B8TuGCa7mCiP",
        "colab_type": "code",
        "colab": {}
      },
      "source": [
        "df = df.dropna()"
      ],
      "execution_count": 322,
      "outputs": []
    },
    {
      "cell_type": "markdown",
      "metadata": {
        "id": "YvIIY5KL49v0",
        "colab_type": "text"
      },
      "source": [
        "Now there are not Null values in the data set ."
      ]
    },
    {
      "cell_type": "code",
      "metadata": {
        "id": "8tLqshirmCiT",
        "colab_type": "code",
        "colab": {
          "base_uri": "https://localhost:8080/",
          "height": 490
        },
        "outputId": "3a4af863-eee5-4f99-b49a-ba66ec56ba1a"
      },
      "source": [
        "df.isnull().sum()"
      ],
      "execution_count": 323,
      "outputs": [
        {
          "output_type": "execute_result",
          "data": {
            "text/plain": [
              "loan_amnt               0\n",
              "term                    0\n",
              "int_rate                0\n",
              "installment             0\n",
              "grade                   0\n",
              "sub_grade               0\n",
              "home_ownership          0\n",
              "annual_inc              0\n",
              "verification_status     0\n",
              "issue_d                 0\n",
              "loan_status             0\n",
              "purpose                 0\n",
              "dti                     0\n",
              "earliest_cr_line        0\n",
              "open_acc                0\n",
              "pub_rec                 0\n",
              "revol_bal               0\n",
              "revol_util              0\n",
              "total_acc               0\n",
              "initial_list_status     0\n",
              "application_type        0\n",
              "mort_acc                0\n",
              "pub_rec_bankruptcies    0\n",
              "address                 0\n",
              "loan_repaid             0\n",
              "dtype: int64"
            ]
          },
          "metadata": {
            "tags": []
          },
          "execution_count": 323
        }
      ]
    },
    {
      "cell_type": "markdown",
      "metadata": {
        "id": "P3zLDc6KmCig",
        "colab_type": "text"
      },
      "source": [
        "----\n",
        "\n",
        "## Categorical Variables and Dummy Variables\n",
        "\n",
        "Now we just need to deal with the string values due to the categorical columns.\n"
      ]
    },
    {
      "cell_type": "code",
      "metadata": {
        "id": "OfOSXY3OmCii",
        "colab_type": "code",
        "colab": {
          "base_uri": "https://localhost:8080/",
          "height": 90
        },
        "outputId": "ef8d7c6c-9cac-4237-ca8f-7584bb34c8d7"
      },
      "source": [
        "df.select_dtypes(['object']).columns"
      ],
      "execution_count": 324,
      "outputs": [
        {
          "output_type": "execute_result",
          "data": {
            "text/plain": [
              "Index(['term', 'grade', 'sub_grade', 'home_ownership', 'verification_status',\n",
              "       'issue_d', 'loan_status', 'purpose', 'earliest_cr_line',\n",
              "       'initial_list_status', 'application_type', 'address'],\n",
              "      dtype='object')"
            ]
          },
          "metadata": {
            "tags": []
          },
          "execution_count": 324
        }
      ]
    },
    {
      "cell_type": "markdown",
      "metadata": {
        "id": "KLxYTVwYmCik",
        "colab_type": "text"
      },
      "source": [
        "\n",
        "Examination the string features to see what we should do with them :\n",
        "\n",
        "---\n",
        "\n",
        "\n",
        "\n",
        "*   Converting the **term** feature into integer numeric data type :\n",
        "\n",
        "\n",
        "\n"
      ]
    },
    {
      "cell_type": "code",
      "metadata": {
        "id": "BRMEd7_bmCim",
        "colab_type": "code",
        "colab": {
          "base_uri": "https://localhost:8080/",
          "height": 72
        },
        "outputId": "bf1da4a1-1ddc-42fe-dcc3-4c0230c6c296"
      },
      "source": [
        "df['term'].value_counts()"
      ],
      "execution_count": 325,
      "outputs": [
        {
          "output_type": "execute_result",
          "data": {
            "text/plain": [
              " 36 months    301247\n",
              " 60 months    93972 \n",
              "Name: term, dtype: int64"
            ]
          },
          "metadata": {
            "tags": []
          },
          "execution_count": 325
        }
      ]
    },
    {
      "cell_type": "code",
      "metadata": {
        "id": "L7gt3GfAmCin",
        "colab_type": "code",
        "colab": {}
      },
      "source": [
        "df['term']=df['term'].apply(lambda x : int(x[:3]) )"
      ],
      "execution_count": 326,
      "outputs": []
    },
    {
      "cell_type": "markdown",
      "metadata": {
        "id": "XlLTZlfCmCip",
        "colab_type": "text"
      },
      "source": [
        "*   Dropping the **grade** feature because is a part of sub_grade"
      ]
    },
    {
      "cell_type": "code",
      "metadata": {
        "id": "Yg1iB7A-mCis",
        "colab_type": "code",
        "colab": {}
      },
      "source": [
        "df.drop('grade',axis=1,inplace=True)"
      ],
      "execution_count": 327,
      "outputs": []
    },
    {
      "cell_type": "markdown",
      "metadata": {
        "id": "wIk7LJHAmCiu",
        "colab_type": "text"
      },
      "source": [
        "*   Converting the **subgrade** into dummy variables, then concatenating these new columns to the original dataframe."
      ]
    },
    {
      "cell_type": "code",
      "metadata": {
        "id": "KNDnpp6GmCiw",
        "colab_type": "code",
        "colab": {}
      },
      "source": [
        "dummies = pd.get_dummies(df['sub_grade'] ,drop_first = True)\n"
      ],
      "execution_count": 328,
      "outputs": []
    },
    {
      "cell_type": "code",
      "metadata": {
        "id": "QDY2EsLbmCi0",
        "colab_type": "code",
        "colab": {}
      },
      "source": [
        "df = pd.concat( [df.drop('sub_grade' ,axis=1) ,dummies  ] ,axis= 1)"
      ],
      "execution_count": 329,
      "outputs": []
    },
    {
      "cell_type": "code",
      "metadata": {
        "id": "WoIirr2hmCi3",
        "colab_type": "code",
        "colab": {
          "base_uri": "https://localhost:8080/",
          "height": 391
        },
        "outputId": "53b26add-fd32-4278-b5d0-6aa34d6c98aa"
      },
      "source": [
        "df.head()"
      ],
      "execution_count": 330,
      "outputs": [
        {
          "output_type": "execute_result",
          "data": {
            "text/html": [
              "<div>\n",
              "<style scoped>\n",
              "    .dataframe tbody tr th:only-of-type {\n",
              "        vertical-align: middle;\n",
              "    }\n",
              "\n",
              "    .dataframe tbody tr th {\n",
              "        vertical-align: top;\n",
              "    }\n",
              "\n",
              "    .dataframe thead th {\n",
              "        text-align: right;\n",
              "    }\n",
              "</style>\n",
              "<table border=\"1\" class=\"dataframe\">\n",
              "  <thead>\n",
              "    <tr style=\"text-align: right;\">\n",
              "      <th></th>\n",
              "      <th>loan_amnt</th>\n",
              "      <th>term</th>\n",
              "      <th>int_rate</th>\n",
              "      <th>installment</th>\n",
              "      <th>home_ownership</th>\n",
              "      <th>annual_inc</th>\n",
              "      <th>verification_status</th>\n",
              "      <th>issue_d</th>\n",
              "      <th>loan_status</th>\n",
              "      <th>purpose</th>\n",
              "      <th>dti</th>\n",
              "      <th>earliest_cr_line</th>\n",
              "      <th>open_acc</th>\n",
              "      <th>pub_rec</th>\n",
              "      <th>revol_bal</th>\n",
              "      <th>revol_util</th>\n",
              "      <th>total_acc</th>\n",
              "      <th>initial_list_status</th>\n",
              "      <th>application_type</th>\n",
              "      <th>mort_acc</th>\n",
              "      <th>pub_rec_bankruptcies</th>\n",
              "      <th>address</th>\n",
              "      <th>loan_repaid</th>\n",
              "      <th>A2</th>\n",
              "      <th>A3</th>\n",
              "      <th>A4</th>\n",
              "      <th>A5</th>\n",
              "      <th>B1</th>\n",
              "      <th>B2</th>\n",
              "      <th>B3</th>\n",
              "      <th>B4</th>\n",
              "      <th>B5</th>\n",
              "      <th>C1</th>\n",
              "      <th>C2</th>\n",
              "      <th>C3</th>\n",
              "      <th>C4</th>\n",
              "      <th>C5</th>\n",
              "      <th>D1</th>\n",
              "      <th>D2</th>\n",
              "      <th>D3</th>\n",
              "      <th>D4</th>\n",
              "      <th>D5</th>\n",
              "      <th>E1</th>\n",
              "      <th>E2</th>\n",
              "      <th>E3</th>\n",
              "      <th>E4</th>\n",
              "      <th>E5</th>\n",
              "      <th>F1</th>\n",
              "      <th>F2</th>\n",
              "      <th>F3</th>\n",
              "      <th>F4</th>\n",
              "      <th>F5</th>\n",
              "      <th>G1</th>\n",
              "      <th>G2</th>\n",
              "      <th>G3</th>\n",
              "      <th>G4</th>\n",
              "      <th>G5</th>\n",
              "    </tr>\n",
              "  </thead>\n",
              "  <tbody>\n",
              "    <tr>\n",
              "      <th>0</th>\n",
              "      <td>10000.0</td>\n",
              "      <td>36</td>\n",
              "      <td>11.44</td>\n",
              "      <td>329.48</td>\n",
              "      <td>RENT</td>\n",
              "      <td>117000.0</td>\n",
              "      <td>Not Verified</td>\n",
              "      <td>Jan-2015</td>\n",
              "      <td>Fully Paid</td>\n",
              "      <td>vacation</td>\n",
              "      <td>26.24</td>\n",
              "      <td>Jun-1990</td>\n",
              "      <td>16.0</td>\n",
              "      <td>0.0</td>\n",
              "      <td>36369.0</td>\n",
              "      <td>41.8</td>\n",
              "      <td>25.0</td>\n",
              "      <td>w</td>\n",
              "      <td>INDIVIDUAL</td>\n",
              "      <td>0.0</td>\n",
              "      <td>0.0</td>\n",
              "      <td>0174 Michelle Gateway\\nMendozaberg, OK 22690</td>\n",
              "      <td>1</td>\n",
              "      <td>0</td>\n",
              "      <td>0</td>\n",
              "      <td>0</td>\n",
              "      <td>0</td>\n",
              "      <td>0</td>\n",
              "      <td>0</td>\n",
              "      <td>0</td>\n",
              "      <td>1</td>\n",
              "      <td>0</td>\n",
              "      <td>0</td>\n",
              "      <td>0</td>\n",
              "      <td>0</td>\n",
              "      <td>0</td>\n",
              "      <td>0</td>\n",
              "      <td>0</td>\n",
              "      <td>0</td>\n",
              "      <td>0</td>\n",
              "      <td>0</td>\n",
              "      <td>0</td>\n",
              "      <td>0</td>\n",
              "      <td>0</td>\n",
              "      <td>0</td>\n",
              "      <td>0</td>\n",
              "      <td>0</td>\n",
              "      <td>0</td>\n",
              "      <td>0</td>\n",
              "      <td>0</td>\n",
              "      <td>0</td>\n",
              "      <td>0</td>\n",
              "      <td>0</td>\n",
              "      <td>0</td>\n",
              "      <td>0</td>\n",
              "      <td>0</td>\n",
              "      <td>0</td>\n",
              "    </tr>\n",
              "    <tr>\n",
              "      <th>1</th>\n",
              "      <td>8000.0</td>\n",
              "      <td>36</td>\n",
              "      <td>11.99</td>\n",
              "      <td>265.68</td>\n",
              "      <td>MORTGAGE</td>\n",
              "      <td>65000.0</td>\n",
              "      <td>Not Verified</td>\n",
              "      <td>Jan-2015</td>\n",
              "      <td>Fully Paid</td>\n",
              "      <td>debt_consolidation</td>\n",
              "      <td>22.05</td>\n",
              "      <td>Jul-2004</td>\n",
              "      <td>17.0</td>\n",
              "      <td>0.0</td>\n",
              "      <td>20131.0</td>\n",
              "      <td>53.3</td>\n",
              "      <td>27.0</td>\n",
              "      <td>f</td>\n",
              "      <td>INDIVIDUAL</td>\n",
              "      <td>3.0</td>\n",
              "      <td>0.0</td>\n",
              "      <td>1076 Carney Fort Apt. 347\\nLoganmouth, SD 05113</td>\n",
              "      <td>1</td>\n",
              "      <td>0</td>\n",
              "      <td>0</td>\n",
              "      <td>0</td>\n",
              "      <td>0</td>\n",
              "      <td>0</td>\n",
              "      <td>0</td>\n",
              "      <td>0</td>\n",
              "      <td>0</td>\n",
              "      <td>1</td>\n",
              "      <td>0</td>\n",
              "      <td>0</td>\n",
              "      <td>0</td>\n",
              "      <td>0</td>\n",
              "      <td>0</td>\n",
              "      <td>0</td>\n",
              "      <td>0</td>\n",
              "      <td>0</td>\n",
              "      <td>0</td>\n",
              "      <td>0</td>\n",
              "      <td>0</td>\n",
              "      <td>0</td>\n",
              "      <td>0</td>\n",
              "      <td>0</td>\n",
              "      <td>0</td>\n",
              "      <td>0</td>\n",
              "      <td>0</td>\n",
              "      <td>0</td>\n",
              "      <td>0</td>\n",
              "      <td>0</td>\n",
              "      <td>0</td>\n",
              "      <td>0</td>\n",
              "      <td>0</td>\n",
              "      <td>0</td>\n",
              "      <td>0</td>\n",
              "    </tr>\n",
              "    <tr>\n",
              "      <th>2</th>\n",
              "      <td>15600.0</td>\n",
              "      <td>36</td>\n",
              "      <td>10.49</td>\n",
              "      <td>506.97</td>\n",
              "      <td>RENT</td>\n",
              "      <td>43057.0</td>\n",
              "      <td>Source Verified</td>\n",
              "      <td>Jan-2015</td>\n",
              "      <td>Fully Paid</td>\n",
              "      <td>credit_card</td>\n",
              "      <td>12.79</td>\n",
              "      <td>Aug-2007</td>\n",
              "      <td>13.0</td>\n",
              "      <td>0.0</td>\n",
              "      <td>11987.0</td>\n",
              "      <td>92.2</td>\n",
              "      <td>26.0</td>\n",
              "      <td>f</td>\n",
              "      <td>INDIVIDUAL</td>\n",
              "      <td>0.0</td>\n",
              "      <td>0.0</td>\n",
              "      <td>87025 Mark Dale Apt. 269\\nNew Sabrina, WV 05113</td>\n",
              "      <td>1</td>\n",
              "      <td>0</td>\n",
              "      <td>0</td>\n",
              "      <td>0</td>\n",
              "      <td>0</td>\n",
              "      <td>0</td>\n",
              "      <td>0</td>\n",
              "      <td>1</td>\n",
              "      <td>0</td>\n",
              "      <td>0</td>\n",
              "      <td>0</td>\n",
              "      <td>0</td>\n",
              "      <td>0</td>\n",
              "      <td>0</td>\n",
              "      <td>0</td>\n",
              "      <td>0</td>\n",
              "      <td>0</td>\n",
              "      <td>0</td>\n",
              "      <td>0</td>\n",
              "      <td>0</td>\n",
              "      <td>0</td>\n",
              "      <td>0</td>\n",
              "      <td>0</td>\n",
              "      <td>0</td>\n",
              "      <td>0</td>\n",
              "      <td>0</td>\n",
              "      <td>0</td>\n",
              "      <td>0</td>\n",
              "      <td>0</td>\n",
              "      <td>0</td>\n",
              "      <td>0</td>\n",
              "      <td>0</td>\n",
              "      <td>0</td>\n",
              "      <td>0</td>\n",
              "      <td>0</td>\n",
              "    </tr>\n",
              "    <tr>\n",
              "      <th>3</th>\n",
              "      <td>7200.0</td>\n",
              "      <td>36</td>\n",
              "      <td>6.49</td>\n",
              "      <td>220.65</td>\n",
              "      <td>RENT</td>\n",
              "      <td>54000.0</td>\n",
              "      <td>Not Verified</td>\n",
              "      <td>Nov-2014</td>\n",
              "      <td>Fully Paid</td>\n",
              "      <td>credit_card</td>\n",
              "      <td>2.60</td>\n",
              "      <td>Sep-2006</td>\n",
              "      <td>6.0</td>\n",
              "      <td>0.0</td>\n",
              "      <td>5472.0</td>\n",
              "      <td>21.5</td>\n",
              "      <td>13.0</td>\n",
              "      <td>f</td>\n",
              "      <td>INDIVIDUAL</td>\n",
              "      <td>0.0</td>\n",
              "      <td>0.0</td>\n",
              "      <td>823 Reid Ford\\nDelacruzside, MA 00813</td>\n",
              "      <td>1</td>\n",
              "      <td>1</td>\n",
              "      <td>0</td>\n",
              "      <td>0</td>\n",
              "      <td>0</td>\n",
              "      <td>0</td>\n",
              "      <td>0</td>\n",
              "      <td>0</td>\n",
              "      <td>0</td>\n",
              "      <td>0</td>\n",
              "      <td>0</td>\n",
              "      <td>0</td>\n",
              "      <td>0</td>\n",
              "      <td>0</td>\n",
              "      <td>0</td>\n",
              "      <td>0</td>\n",
              "      <td>0</td>\n",
              "      <td>0</td>\n",
              "      <td>0</td>\n",
              "      <td>0</td>\n",
              "      <td>0</td>\n",
              "      <td>0</td>\n",
              "      <td>0</td>\n",
              "      <td>0</td>\n",
              "      <td>0</td>\n",
              "      <td>0</td>\n",
              "      <td>0</td>\n",
              "      <td>0</td>\n",
              "      <td>0</td>\n",
              "      <td>0</td>\n",
              "      <td>0</td>\n",
              "      <td>0</td>\n",
              "      <td>0</td>\n",
              "      <td>0</td>\n",
              "      <td>0</td>\n",
              "    </tr>\n",
              "    <tr>\n",
              "      <th>4</th>\n",
              "      <td>24375.0</td>\n",
              "      <td>60</td>\n",
              "      <td>17.27</td>\n",
              "      <td>609.33</td>\n",
              "      <td>MORTGAGE</td>\n",
              "      <td>55000.0</td>\n",
              "      <td>Verified</td>\n",
              "      <td>Apr-2013</td>\n",
              "      <td>Charged Off</td>\n",
              "      <td>credit_card</td>\n",
              "      <td>33.95</td>\n",
              "      <td>Mar-1999</td>\n",
              "      <td>13.0</td>\n",
              "      <td>0.0</td>\n",
              "      <td>24584.0</td>\n",
              "      <td>69.8</td>\n",
              "      <td>43.0</td>\n",
              "      <td>f</td>\n",
              "      <td>INDIVIDUAL</td>\n",
              "      <td>1.0</td>\n",
              "      <td>0.0</td>\n",
              "      <td>679 Luna Roads\\nGreggshire, VA 11650</td>\n",
              "      <td>0</td>\n",
              "      <td>0</td>\n",
              "      <td>0</td>\n",
              "      <td>0</td>\n",
              "      <td>0</td>\n",
              "      <td>0</td>\n",
              "      <td>0</td>\n",
              "      <td>0</td>\n",
              "      <td>0</td>\n",
              "      <td>0</td>\n",
              "      <td>0</td>\n",
              "      <td>0</td>\n",
              "      <td>0</td>\n",
              "      <td>0</td>\n",
              "      <td>1</td>\n",
              "      <td>0</td>\n",
              "      <td>0</td>\n",
              "      <td>0</td>\n",
              "      <td>0</td>\n",
              "      <td>0</td>\n",
              "      <td>0</td>\n",
              "      <td>0</td>\n",
              "      <td>0</td>\n",
              "      <td>0</td>\n",
              "      <td>0</td>\n",
              "      <td>0</td>\n",
              "      <td>0</td>\n",
              "      <td>0</td>\n",
              "      <td>0</td>\n",
              "      <td>0</td>\n",
              "      <td>0</td>\n",
              "      <td>0</td>\n",
              "      <td>0</td>\n",
              "      <td>0</td>\n",
              "      <td>0</td>\n",
              "    </tr>\n",
              "  </tbody>\n",
              "</table>\n",
              "</div>"
            ],
            "text/plain": [
              "   loan_amnt  term  int_rate  installment home_ownership  ...  G1 G2 G3 G4 G5\n",
              "0  10000.0    36    11.44     329.48       RENT           ...  0   0  0  0  0\n",
              "1  8000.0     36    11.99     265.68       MORTGAGE       ...  0   0  0  0  0\n",
              "2  15600.0    36    10.49     506.97       RENT           ...  0   0  0  0  0\n",
              "3  7200.0     36    6.49      220.65       RENT           ...  0   0  0  0  0\n",
              "4  24375.0    60    17.27     609.33       MORTGAGE       ...  0   0  0  0  0\n",
              "\n",
              "[5 rows x 57 columns]"
            ]
          },
          "metadata": {
            "tags": []
          },
          "execution_count": 330
        }
      ]
    },
    {
      "cell_type": "markdown",
      "metadata": {
        "id": "1L-UuBtZmCi7",
        "colab_type": "text"
      },
      "source": [
        "*   **verification_status, application_type,initial_list_status,purpose** : Converting these columns into dummy variables and concatenating them with the original dataframe."
      ]
    },
    {
      "cell_type": "code",
      "metadata": {
        "id": "E7fJhfemmCi9",
        "colab_type": "code",
        "colab": {}
      },
      "source": [
        "dummies = pd.get_dummies(df[['verification_status', 'application_type','initial_list_status','purpose'] ] ,drop_first = True)\n",
        "df = pd.concat( [df.drop(['verification_status', 'application_type','initial_list_status','purpose']  ,axis=1) ,dummies  ] ,axis= 1)"
      ],
      "execution_count": 331,
      "outputs": []
    },
    {
      "cell_type": "markdown",
      "metadata": {
        "id": "Vw3ghRqYmCi_",
        "colab_type": "text"
      },
      "source": [
        "*   **home_ownership** (The home ownership status provided by the borrower during registration or obtained from the credit report. Our values are: RENT, OWN, MORTGAGE, OTHER). The value_counts for the home_ownership column:"
      ]
    },
    {
      "cell_type": "code",
      "metadata": {
        "id": "uLO2mFHkmCjA",
        "colab_type": "code",
        "colab": {
          "base_uri": "https://localhost:8080/",
          "height": 145
        },
        "outputId": "f52fee9c-cd99-45bb-df4a-42d5b6268563"
      },
      "source": [
        "df['home_ownership'].value_counts()"
      ],
      "execution_count": 332,
      "outputs": [
        {
          "output_type": "execute_result",
          "data": {
            "text/plain": [
              "MORTGAGE    198022\n",
              "RENT        159395\n",
              "OWN         37660 \n",
              "OTHER       110   \n",
              "NONE        29    \n",
              "ANY         3     \n",
              "Name: home_ownership, dtype: int64"
            ]
          },
          "metadata": {
            "tags": []
          },
          "execution_count": 332
        }
      ]
    },
    {
      "cell_type": "code",
      "metadata": {
        "id": "hHrxuE_ZmCjB",
        "colab_type": "code",
        "colab": {
          "base_uri": "https://localhost:8080/",
          "height": 108
        },
        "outputId": "86f734bf-b0a0-4f3a-baab-657c72780ec3"
      },
      "source": [
        "df['home_ownership'] = df['home_ownership'].replace(['NONE','ANY'],'OTHER')\n",
        "df['home_ownership'].value_counts()"
      ],
      "execution_count": 333,
      "outputs": [
        {
          "output_type": "execute_result",
          "data": {
            "text/plain": [
              "MORTGAGE    198022\n",
              "RENT        159395\n",
              "OWN         37660 \n",
              "OTHER       142   \n",
              "Name: home_ownership, dtype: int64"
            ]
          },
          "metadata": {
            "tags": []
          },
          "execution_count": 333
        }
      ]
    },
    {
      "cell_type": "code",
      "metadata": {
        "id": "O8GCAFAumCjD",
        "colab_type": "code",
        "colab": {}
      },
      "source": [
        "dummies = pd.get_dummies(df['home_ownership'] ,drop_first = True)\n",
        "\n",
        "df = pd.concat( [df.drop('home_ownership' ,axis=1) ,dummies  ] ,axis= 1)"
      ],
      "execution_count": 334,
      "outputs": []
    },
    {
      "cell_type": "markdown",
      "metadata": {
        "id": "guttFK58mCjF",
        "colab_type": "text"
      },
      "source": [
        "*   **address**: Feature engineer -extracting the zip code column from the address in the data set. "
      ]
    },
    {
      "cell_type": "code",
      "metadata": {
        "id": "ReeeeQ7UmCjF",
        "colab_type": "code",
        "colab": {
          "base_uri": "https://localhost:8080/",
          "height": 235
        },
        "outputId": "231ecef3-0aa7-438a-f7e4-696c37d42d2b"
      },
      "source": [
        "df['address']"
      ],
      "execution_count": 335,
      "outputs": [
        {
          "output_type": "execute_result",
          "data": {
            "text/plain": [
              "0         0174 Michelle Gateway\\nMendozaberg, OK 22690        \n",
              "1         1076 Carney Fort Apt. 347\\nLoganmouth, SD 05113     \n",
              "2         87025 Mark Dale Apt. 269\\nNew Sabrina, WV 05113     \n",
              "3         823 Reid Ford\\nDelacruzside, MA 00813               \n",
              "4         679 Luna Roads\\nGreggshire, VA 11650                \n",
              "                          ...                                 \n",
              "396025    12951 Williams Crossing\\nJohnnyville, DC 30723      \n",
              "396026    0114 Fowler Field Suite 028\\nRachelborough, LA 05113\n",
              "396027    953 Matthew Points Suite 414\\nReedfort, NY 70466    \n",
              "396028    7843 Blake Freeway Apt. 229\\nNew Michael, FL 29597  \n",
              "396029    787 Michelle Causeway\\nBriannaton, AR 48052         \n",
              "Name: address, Length: 395219, dtype: object"
            ]
          },
          "metadata": {
            "tags": []
          },
          "execution_count": 335
        }
      ]
    },
    {
      "cell_type": "code",
      "metadata": {
        "id": "qh51zTBZmCjK",
        "colab_type": "code",
        "colab": {}
      },
      "source": [
        "df['zip_code'] = df['address'].apply (lambda x:  (x[-5 :]) )"
      ],
      "execution_count": 336,
      "outputs": []
    },
    {
      "cell_type": "code",
      "metadata": {
        "id": "FhvyKqLwO3JD",
        "colab_type": "code",
        "colab": {
          "base_uri": "https://localhost:8080/",
          "height": 217
        },
        "outputId": "696bbd97-92db-4509-8c18-4debea2b4b31"
      },
      "source": [
        "df['zip_code'].value_counts()"
      ],
      "execution_count": 337,
      "outputs": [
        {
          "output_type": "execute_result",
          "data": {
            "text/plain": [
              "70466    56880\n",
              "22690    56413\n",
              "30723    56402\n",
              "48052    55811\n",
              "00813    45725\n",
              "29597    45393\n",
              "05113    45300\n",
              "11650    11210\n",
              "93700    11126\n",
              "86630    10959\n",
              "Name: zip_code, dtype: int64"
            ]
          },
          "metadata": {
            "tags": []
          },
          "execution_count": 337
        }
      ]
    },
    {
      "cell_type": "markdown",
      "metadata": {
        "id": "WJrBHvUGO1WL",
        "colab_type": "text"
      },
      "source": [
        "It looks like there is a total of 10 zip codes so we can get dummy features from it."
      ]
    },
    {
      "cell_type": "code",
      "metadata": {
        "id": "ER-pezdYmCjM",
        "colab_type": "code",
        "colab": {}
      },
      "source": [
        "dummies = pd.get_dummies(df['zip_code'] ,drop_first = True)\n",
        "\n",
        "df = pd.concat( [df.drop('zip_code' ,axis=1) ,dummies  ] ,axis= 1)"
      ],
      "execution_count": 338,
      "outputs": []
    },
    {
      "cell_type": "code",
      "metadata": {
        "id": "ug-E3HFKiT2Y",
        "colab_type": "code",
        "colab": {}
      },
      "source": [
        "df = df.drop('address', axis= 1 )"
      ],
      "execution_count": 339,
      "outputs": []
    },
    {
      "cell_type": "markdown",
      "metadata": {
        "id": "ZHdRDv7_mCjN",
        "colab_type": "text"
      },
      "source": [
        "*   **issue_d** (The month which the loan was funded): This would be data leakage, we wouldn't know beforehand whether or not a loan would be issued when using our model, so in theory we wouldn't have an issue_date, so we have to drop this feature."
      ]
    },
    {
      "cell_type": "code",
      "metadata": {
        "id": "XlEvazN5mCjP",
        "colab_type": "code",
        "colab": {}
      },
      "source": [
        "df = df.drop('issue_d',axis = 1)"
      ],
      "execution_count": 340,
      "outputs": []
    },
    {
      "cell_type": "markdown",
      "metadata": {
        "id": "8K0HBIMpmCjR",
        "colab_type": "text"
      },
      "source": [
        "*   **earliest_cr_line** (The month the borrower's earliest reported credit line was opened)\n",
        "Extracting the year from this feature using a apply function, and converting it to a numeric feature."
      ]
    },
    {
      "cell_type": "code",
      "metadata": {
        "id": "R9CmrmvtmCjR",
        "colab_type": "code",
        "colab": {}
      },
      "source": [
        "df['earliest_cr_line'] = df['earliest_cr_line'].apply(lambda x : int(x[-4:]))"
      ],
      "execution_count": 341,
      "outputs": []
    },
    {
      "cell_type": "markdown",
      "metadata": {
        "id": "SphPBzZLhlS1",
        "colab_type": "text"
      },
      "source": [
        "\n",
        "*   dropping the **load_status** column , since its a duplicate of the loan_repaid \n",
        "column."
      ]
    },
    {
      "cell_type": "code",
      "metadata": {
        "id": "0ca0ehqch08T",
        "colab_type": "code",
        "colab": {
          "base_uri": "https://localhost:8080/",
          "height": 235
        },
        "outputId": "bfdaf925-054d-4b1e-b732-9e6e69a7ac96"
      },
      "source": [
        "df = df.drop('loan_status', axis= 1 )\n",
        "df['loan_repaid']"
      ],
      "execution_count": 342,
      "outputs": [
        {
          "output_type": "execute_result",
          "data": {
            "text/plain": [
              "0         1\n",
              "1         1\n",
              "2         1\n",
              "3         1\n",
              "4         0\n",
              "         ..\n",
              "396025    1\n",
              "396026    1\n",
              "396027    1\n",
              "396028    1\n",
              "396029    1\n",
              "Name: loan_repaid, Length: 395219, dtype: int64"
            ]
          },
          "metadata": {
            "tags": []
          },
          "execution_count": 342
        }
      ]
    },
    {
      "cell_type": "markdown",
      "metadata": {
        "id": "kXXgLS01mCjZ",
        "colab_type": "text"
      },
      "source": [
        "\n",
        "---\n",
        "\n",
        "\n",
        "\n",
        "---\n",
        "\n",
        "\n",
        "#**Section 3 : First Model**\n",
        "\n",
        "\n",
        "\n",
        "\n",
        "---\n",
        "\n",
        "\n",
        "\n",
        "---\n",
        "\n",
        "\n",
        "## Train Test Split\n",
        "\n",
        "\n",
        "\n"
      ]
    },
    {
      "cell_type": "markdown",
      "metadata": {
        "id": "lNmiml-emCja",
        "colab_type": "text"
      },
      "source": [
        "Import train_test_split from sklearn"
      ]
    },
    {
      "cell_type": "code",
      "metadata": {
        "id": "nPBkfNgwmCja",
        "colab_type": "code",
        "colab": {}
      },
      "source": [
        "from sklearn.model_selection import train_test_split "
      ],
      "execution_count": 343,
      "outputs": []
    },
    {
      "cell_type": "markdown",
      "metadata": {
        "id": "1BN7-m16mCjn",
        "colab_type": "text"
      },
      "source": [
        "Setting X and y variables to the values of the features and label (traget variable)"
      ]
    },
    {
      "cell_type": "code",
      "metadata": {
        "id": "axun7RT1mCjo",
        "colab_type": "code",
        "colab": {}
      },
      "source": [
        "X = df.drop('loan_repaid', axis= 1 ).values\n",
        "\n",
        "y= df['loan_repaid'].values"
      ],
      "execution_count": 344,
      "outputs": []
    },
    {
      "cell_type": "code",
      "metadata": {
        "id": "04REnJJXmCjs",
        "colab_type": "code",
        "colab": {
          "base_uri": "https://localhost:8080/",
          "height": 35
        },
        "outputId": "c7109c3c-ce09-44b3-ce9f-9a4d473fe020"
      },
      "source": [
        "\n",
        "X.shape ,y.shape"
      ],
      "execution_count": 345,
      "outputs": [
        {
          "output_type": "execute_result",
          "data": {
            "text/plain": [
              "((395219, 78), (395219,))"
            ]
          },
          "metadata": {
            "tags": []
          },
          "execution_count": 345
        }
      ]
    },
    {
      "cell_type": "markdown",
      "metadata": {
        "id": "VOUX27vTmCju",
        "colab_type": "text"
      },
      "source": [
        "Performming a train\\test split with test_size=0.2 "
      ]
    },
    {
      "cell_type": "code",
      "metadata": {
        "id": "GrkzN_EqmCju",
        "colab_type": "code",
        "colab": {}
      },
      "source": [
        "X_train, X_test, y_train, y_test = train_test_split(X, y, test_size=0.2 , random_state= 101 ) "
      ],
      "execution_count": 346,
      "outputs": []
    },
    {
      "cell_type": "markdown",
      "metadata": {
        "id": "1XsEjs2zmCjy",
        "colab_type": "text"
      },
      "source": [
        "## Normalizing the Data\n",
        "\n",
        "Using a **MinMaxScaler** to normalize the feature data X_train and X_test. "
      ]
    },
    {
      "cell_type": "code",
      "metadata": {
        "id": "Zf788i0wmCj0",
        "colab_type": "code",
        "colab": {}
      },
      "source": [
        "from sklearn.preprocessing import MinMaxScaler"
      ],
      "execution_count": 347,
      "outputs": []
    },
    {
      "cell_type": "code",
      "metadata": {
        "id": "gxz_ch5mmCj3",
        "colab_type": "code",
        "colab": {
          "base_uri": "https://localhost:8080/",
          "height": 254
        },
        "outputId": "3a0dae9b-5097-4b1a-d239-4f24e659b124"
      },
      "source": [
        "scaler = MinMaxScaler()\n",
        "X_train"
      ],
      "execution_count": 348,
      "outputs": [
        {
          "output_type": "execute_result",
          "data": {
            "text/plain": [
              "array([[9.700e+03, 3.600e+01, 1.727e+01, ..., 0.000e+00, 0.000e+00,\n",
              "        0.000e+00],\n",
              "       [2.000e+04, 3.600e+01, 1.365e+01, ..., 0.000e+00, 0.000e+00,\n",
              "        0.000e+00],\n",
              "       [1.335e+04, 6.000e+01, 1.727e+01, ..., 0.000e+00, 0.000e+00,\n",
              "        0.000e+00],\n",
              "       ...,\n",
              "       [8.550e+03, 3.600e+01, 9.670e+00, ..., 0.000e+00, 0.000e+00,\n",
              "        0.000e+00],\n",
              "       [1.200e+04, 6.000e+01, 1.624e+01, ..., 0.000e+00, 0.000e+00,\n",
              "        0.000e+00],\n",
              "       [3.500e+04, 3.600e+01, 1.999e+01, ..., 0.000e+00, 0.000e+00,\n",
              "        0.000e+00]])"
            ]
          },
          "metadata": {
            "tags": []
          },
          "execution_count": 348
        }
      ]
    },
    {
      "cell_type": "code",
      "metadata": {
        "id": "-bCGVSCRmCj5",
        "colab_type": "code",
        "colab": {}
      },
      "source": [
        "X_train = scaler.fit_transform(X_train)"
      ],
      "execution_count": 349,
      "outputs": []
    },
    {
      "cell_type": "code",
      "metadata": {
        "id": "FTkrxtOrmCj6",
        "colab_type": "code",
        "colab": {}
      },
      "source": [
        "X_test = scaler.transform(X_test)"
      ],
      "execution_count": 350,
      "outputs": []
    },
    {
      "cell_type": "markdown",
      "metadata": {
        "id": "sVKpig3KmCj8",
        "colab_type": "text"
      },
      "source": [
        "## Creating the Model\n",
        "\n",
        "import the necessary Keras functions"
      ]
    },
    {
      "cell_type": "code",
      "metadata": {
        "id": "4TxweH0TmCj8",
        "colab_type": "code",
        "colab": {}
      },
      "source": [
        "import tensorflow as tf\n",
        "from tensorflow.keras.models import Sequential\n",
        "from tensorflow.keras.layers import Dense,Dropout"
      ],
      "execution_count": 351,
      "outputs": []
    },
    {
      "cell_type": "code",
      "metadata": {
        "id": "aTUjofpMkQJU",
        "colab_type": "code",
        "colab": {
          "base_uri": "https://localhost:8080/",
          "height": 35
        },
        "outputId": "c370c28f-96b5-434c-83b6-090398e6d340"
      },
      "source": [
        "df.shape"
      ],
      "execution_count": 352,
      "outputs": [
        {
          "output_type": "execute_result",
          "data": {
            "text/plain": [
              "(395219, 79)"
            ]
          },
          "metadata": {
            "tags": []
          },
          "execution_count": 352
        }
      ]
    },
    {
      "cell_type": "markdown",
      "metadata": {
        "id": "czBAwehLmCj9",
        "colab_type": "text"
      },
      "source": [
        "Building a **sequential model** to will be trained on the data.\n",
        "The rule of thumb is:  first layer should match the same number of features in the dataset and then the number of neurons will be the half for each layer.\n",
        "finally the model would be:  78 --> 39 --> 19--> 1 output neuron. \n",
        "\n",
        "then the activation function we will choose is **rectified linear unit** .\n",
        "\n",
        "\n",
        "Beacuse the problem is performing binary classification which means we should have one neuron at the very end so units is equal to one and it should be using an **sigmoid activation function**.\n",
        "Sigmoid activation function pushes values to be between 0 and 1 and next we're going to do is we will compile the model .\n",
        "\n",
        "the **dropout layers** will essentially turn off a percentage of neurons randomly.\n",
        "The **loss** should be **binary cross entropy** and our optimizer would be **Adam** ."
      ]
    },
    {
      "cell_type": "code",
      "metadata": {
        "id": "GCuL8Vr4mCj9",
        "colab_type": "code",
        "colab": {}
      },
      "source": [
        "model = Sequential()\n",
        "\n",
        "\n",
        "\n",
        "# input layer\n",
        "model.add(Dense(78,  activation='relu'))\n",
        "model.add(Dropout(0.2))\n",
        "\n",
        "# hidden layer\n",
        "model.add(Dense(39, activation='relu'))\n",
        "model.add(Dropout(0.2))\n",
        "\n",
        "# hidden layer\n",
        "model.add(Dense(19, activation='relu'))\n",
        "model.add(Dropout(0.2))\n",
        "\n",
        "# output layer - binary classifiaction problem \n",
        "model.add(Dense(units=1,activation='sigmoid'))\n",
        "\n",
        "# Compile model\n",
        "model.compile(loss='binary_crossentropy', optimizer='adam')"
      ],
      "execution_count": 353,
      "outputs": []
    },
    {
      "cell_type": "markdown",
      "metadata": {
        "id": "TR9VlFoumCkB",
        "colab_type": "text"
      },
      "source": [
        "Fitting the model to the training data with 25 epochs and adding in the validation data for later plotting and  a **batch_size** of 256 "
      ]
    },
    {
      "cell_type": "code",
      "metadata": {
        "id": "c7DqDFa5mCkF",
        "colab_type": "code",
        "colab": {
          "base_uri": "https://localhost:8080/",
          "height": 163
        },
        "outputId": "3170c81f-8c15-4080-cbb2-f3e49813fac9"
      },
      "source": [
        "model.fit(x=X_train, \n",
        "          y=y_train, \n",
        "          epochs=40,\n",
        "          batch_size=256,\n",
        "          validation_data=(X_test, y_test), \n",
        ")"
      ],
      "execution_count": null,
      "outputs": [
        {
          "output_type": "stream",
          "text": [
            "Epoch 1/40\n",
            "1236/1236 [==============================] - 4s 3ms/step - loss: 0.2977 - val_loss: 0.2652\n",
            "Epoch 2/40\n",
            "1236/1236 [==============================] - 3s 3ms/step - loss: 0.2656 - val_loss: 0.2628\n",
            "Epoch 3/40\n",
            "1236/1236 [==============================] - 3s 2ms/step - loss: 0.2627 - val_loss: 0.2627\n",
            "Epoch 4/40\n",
            " 927/1236 [=====================>........] - ETA: 0s - loss: 0.2608"
          ],
          "name": "stdout"
        }
      ]
    },
    {
      "cell_type": "markdown",
      "metadata": {
        "id": "cQwsZsZ8mCkH",
        "colab_type": "text"
      },
      "source": [
        "Saving the model"
      ]
    },
    {
      "cell_type": "code",
      "metadata": {
        "id": "px6J0VEimCkJ",
        "colab_type": "code",
        "colab": {}
      },
      "source": [
        "from tensorflow.keras.models import load_model"
      ],
      "execution_count": null,
      "outputs": []
    },
    {
      "cell_type": "code",
      "metadata": {
        "id": "6TBLQ2f1mCkK",
        "colab_type": "code",
        "colab": {}
      },
      "source": [
        "model.save('loan_model.h5')  "
      ],
      "execution_count": null,
      "outputs": []
    },
    {
      "cell_type": "markdown",
      "metadata": {
        "id": "Z1C4B8VBmCkM",
        "colab_type": "text"
      },
      "source": [
        "##Evaluating Model Performance.\n",
        "\n",
        "Plotting out the validation loss versus the training loss (loss is the training loss and validation loss is the loss on our test set)"
      ]
    },
    {
      "cell_type": "code",
      "metadata": {
        "id": "ndZKNScnmCkM",
        "colab_type": "code",
        "colab": {}
      },
      "source": [
        "losses = pd.DataFrame(model.history.history)"
      ],
      "execution_count": null,
      "outputs": []
    },
    {
      "cell_type": "code",
      "metadata": {
        "id": "2lE3caEpmCkO",
        "colab_type": "code",
        "colab": {}
      },
      "source": [
        "losses[['loss','val_loss']].plot()"
      ],
      "execution_count": null,
      "outputs": []
    },
    {
      "cell_type": "markdown",
      "metadata": {
        "id": "6f9Rpsef-7IZ",
        "colab_type": "text"
      },
      "source": [
        "At a certain point in time notice that the training loss (blue line) is going down and validation loss is beginning to increase.\n",
        "\n",
        "That basically tells us that we're **over fitting** to the training dataset so we have a clear indication here that we're training too many epochs.\n",
        "\n",
        "Notice the validation list gets worse and worse after these epochs.\n",
        "we are going to see if we can use **early stopping**\n",
        "and using tensorflow Kares **callbacks** based on the validation loss stop the training before it gets down as shown here.\n"
      ]
    },
    {
      "cell_type": "markdown",
      "metadata": {
        "id": "uD-XVRiwmCkR",
        "colab_type": "text"
      },
      "source": [
        "Creating predictions from the X_test set and display a **classification report** and **confusion matrix** for the X_test set:"
      ]
    },
    {
      "cell_type": "code",
      "metadata": {
        "id": "HAYYAsDZmCkT",
        "colab_type": "code",
        "colab": {}
      },
      "source": [
        "from sklearn.metrics import classification_report,confusion_matrix"
      ],
      "execution_count": null,
      "outputs": []
    },
    {
      "cell_type": "code",
      "metadata": {
        "id": "KqHJOmP7mCkU",
        "colab_type": "code",
        "colab": {}
      },
      "source": [
        "predictions = model.predict_classes(X_test)"
      ],
      "execution_count": null,
      "outputs": []
    },
    {
      "cell_type": "code",
      "metadata": {
        "id": "_Ky3UlQ3mCkV",
        "colab_type": "code",
        "colab": {}
      },
      "source": [
        "print(classification_report(y_test,predictions))"
      ],
      "execution_count": null,
      "outputs": []
    },
    {
      "cell_type": "markdown",
      "metadata": {
        "id": "5fJfruQ1RCnk",
        "colab_type": "text"
      },
      "source": [
        "**Accuracy** is the actual percent that we got right - we got 89% accuracy . At the beginning of this notebook we analyzed the actual label -**loan_status** itself and recall it's an imbalanced labels.\n",
        "\n",
        "There is a lot more 'Fully paid' than there are 'Charged off' loans.\n",
        "\n",
        "In the data set there are 317,696 'Fully_paid' records devided by 395,219 actual length of that dataset it is around 0.8 accuracy .\n",
        "\n",
        "This is indicates that 80% of my points are already being predicted as loan repaid which means if I created a very simple model that simply said any loan will be repaid I would be 80% accurate.\n",
        "\n",
        "So the bottom threshold is 80%  - which means our 89% accuracy here is OK but it's not good enough because of our imbalanced data set .\n",
        "\n",
        "We got a good score on the **precision** but bad score on the **recall**.\n",
        "\n",
        "The **F1 score** is the harmonic mean between precision and recall.\n",
        "\n",
        "The true notification of whether or not this model is doing well is the F1 score on 0 class.\n",
        "\n",
        "So we need a lot more context to decide whether or not this recall in this F1 score are good enough. We can say that the accuracy is better than just kind of a default random guess which would be 80%.\n",
        "\n",
        "A random guess would get 50% accuracy a straight guess of always being repaid with get 80% accuracy and our model is getting 89% accuracy.\n",
        "\n",
        "So we are performing better than both a random guess and a straight loan repaid return."
      ]
    },
    {
      "cell_type": "markdown",
      "metadata": {
        "id": "CACWgoRY3STB",
        "colab_type": "text"
      },
      "source": [
        "Confusion matrix : "
      ]
    },
    {
      "cell_type": "code",
      "metadata": {
        "id": "-HMqR8SImCkX",
        "colab_type": "code",
        "colab": {}
      },
      "source": [
        "from mlxtend.plotting import plot_confusion_matrix\n",
        "import matplotlib.pyplot as plt\n",
        "import numpy as np\n",
        "\n",
        "\n",
        "plot_confusion_matrix(conf_mat=confusion_matrix(y_test,predictions),\n",
        "colorbar=True,  show_absolute=True, show_normed=True , cmap = 'gist_earth_r')\n",
        "\n"
      ],
      "execution_count": null,
      "outputs": []
    },
    {
      "cell_type": "markdown",
      "metadata": {
        "id": "gc6LU6REkkLF",
        "colab_type": "text"
      },
      "source": [
        "We can see from the confusion matrix that we mis-classifying a lot of the zero points (8876 records) which causes the low recall ."
      ]
    },
    {
      "cell_type": "markdown",
      "metadata": {
        "id": "NN-hXqK-AH0u",
        "colab_type": "text"
      },
      "source": [
        "\n",
        "---\n",
        "\n",
        "\n",
        "\n",
        "---\n",
        "\n",
        "\n",
        "#**Section 4: Second Model**\n",
        "\n",
        "\n",
        "\n",
        "\n",
        "---\n",
        "\n",
        "\n",
        "\n",
        "---\n",
        "\n",
        "\n",
        "##Improving the first model:\n",
        "\n",
        "\n",
        "\n",
        "*   Balance the label\n",
        "*   Early stopping\n",
        "*   Changing the Dropout \n",
        "\n"
      ]
    },
    {
      "cell_type": "markdown",
      "metadata": {
        "id": "YFmev-z3WwMs",
        "colab_type": "text"
      },
      "source": [
        "Imbalance problem affects the quality and reliability of results in machine learning task and, for this reason, we need to change the balance of the label."
      ]
    },
    {
      "cell_type": "code",
      "metadata": {
        "id": "VG_jKZHM_tY3",
        "colab_type": "code",
        "colab": {}
      },
      "source": [
        "ntest1 = int(len(df) *0.01)\n",
        "ntest2 = ntest1 + int(len(df) *0.01)\n",
        "ntrain = int(len(df) -ntest2  )\n",
        "ntest1, ntest2, ntrain\n",
        "\n"
      ],
      "execution_count": null,
      "outputs": []
    },
    {
      "cell_type": "code",
      "metadata": {
        "id": "uiHYiqXYFalg",
        "colab_type": "code",
        "colab": {}
      },
      "source": [
        "df_test1 = df[df['loan_repaid'] == 0].iloc[ 0 : ntest1]\n",
        "df_test1.shape"
      ],
      "execution_count": null,
      "outputs": []
    },
    {
      "cell_type": "code",
      "metadata": {
        "id": "Nsi82ipVGx4u",
        "colab_type": "code",
        "colab": {}
      },
      "source": [
        "df_test1['loan_repaid'].value_counts()"
      ],
      "execution_count": null,
      "outputs": []
    },
    {
      "cell_type": "code",
      "metadata": {
        "id": "ojRrX_EpFg2m",
        "colab_type": "code",
        "colab": {}
      },
      "source": [
        "X_test1 = df_test1.drop('loan_repaid', axis= 1 ).values\n",
        "\n",
        "y_test1= df_test1['loan_repaid'].values"
      ],
      "execution_count": null,
      "outputs": []
    },
    {
      "cell_type": "code",
      "metadata": {
        "id": "vs_1RmtHFU1R",
        "colab_type": "code",
        "colab": {}
      },
      "source": [
        "#df[df['loan_repaid'] == 0]['loan_repaid'].value_counts()\n",
        "\n",
        "df_test2_0 = df[df['loan_repaid'] == 0].iloc[ntest1 : ntest1 + int(ntest1/2) ]\n",
        "df_test2_1 =  df[df['loan_repaid'] == 1].iloc[0 :int(ntest1/2) ]\n",
        "\n",
        "df_test2 = pd.concat([df_test2_0,df_test2_1 ], axis = 0 )\n",
        "\n"
      ],
      "execution_count": null,
      "outputs": []
    },
    {
      "cell_type": "code",
      "metadata": {
        "id": "ij75rr4tFoQA",
        "colab_type": "code",
        "colab": {}
      },
      "source": [
        "from sklearn.utils import shuffle\n",
        "\n",
        "df_test2 = shuffle(df_test2)\n",
        "df_test2.shape"
      ],
      "execution_count": null,
      "outputs": []
    },
    {
      "cell_type": "code",
      "metadata": {
        "id": "Z-9l0XCJG5N4",
        "colab_type": "code",
        "colab": {}
      },
      "source": [
        "df_test2.value_counts()"
      ],
      "execution_count": null,
      "outputs": []
    },
    {
      "cell_type": "code",
      "metadata": {
        "id": "KJZjwfz9C72f",
        "colab_type": "code",
        "colab": {}
      },
      "source": [
        "X_test2 = df_test2.drop('loan_repaid', axis= 1 ).values\n",
        "\n",
        "y_test2= df_test2['loan_repaid'].values"
      ],
      "execution_count": null,
      "outputs": []
    },
    {
      "cell_type": "code",
      "metadata": {
        "id": "mTtGIeTwISdK",
        "colab_type": "code",
        "colab": {}
      },
      "source": [
        "df_train_0 = df[df['loan_repaid'] == 0].iloc[ntest1 + int(ntest1/2) :  ]\n",
        "df_train_1 =  df[df['loan_repaid'] == 1].iloc[int(ntest1/2) : ]\n",
        "df_train = pd.concat([df_train_0,df_train_1 ], axis = 0 )"
      ],
      "execution_count": null,
      "outputs": []
    },
    {
      "cell_type": "code",
      "metadata": {
        "id": "cFxiDr7mIvgv",
        "colab_type": "code",
        "colab": {}
      },
      "source": [
        "df_train = shuffle(df_train)"
      ],
      "execution_count": null,
      "outputs": []
    },
    {
      "cell_type": "code",
      "metadata": {
        "id": "ZY1P_6_1G-8w",
        "colab_type": "code",
        "colab": {}
      },
      "source": [
        "df_train['loan_repaid'].value_counts()"
      ],
      "execution_count": null,
      "outputs": []
    },
    {
      "cell_type": "code",
      "metadata": {
        "colab_type": "code",
        "id": "3G_DRAcYadHl",
        "colab": {}
      },
      "source": [
        "X_train = df_train.drop('loan_repaid', axis= 1 ).values\n",
        "\n",
        "y_train= df_train['loan_repaid'].values\n",
        "\n",
        "X_train.shape ,y_train.shape"
      ],
      "execution_count": null,
      "outputs": []
    },
    {
      "cell_type": "markdown",
      "metadata": {
        "id": "mCwjixbAhIRh",
        "colab_type": "text"
      },
      "source": [
        "One approach to addressing imbalanced datasets is to oversample the minority class. The approach involves duplicating examples in the minority class, although these examples don’t add any new information to the model. "
      ]
    },
    {
      "cell_type": "code",
      "metadata": {
        "id": "EutFDMeXazth",
        "colab_type": "code",
        "colab": {}
      },
      "source": [
        "from imblearn.combine import SMOTETomek"
      ],
      "execution_count": null,
      "outputs": []
    },
    {
      "cell_type": "code",
      "metadata": {
        "id": "a8fo8gI8bfuV",
        "colab_type": "code",
        "colab": {}
      },
      "source": [
        "smk = SMOTETomek(random_state = 42)\n"
      ],
      "execution_count": null,
      "outputs": []
    },
    {
      "cell_type": "code",
      "metadata": {
        "id": "W-wVreJXbhF1",
        "colab_type": "code",
        "colab": {}
      },
      "source": [
        "X_train , y_train = smk.fit_sample(X_train , y_train)"
      ],
      "execution_count": null,
      "outputs": []
    },
    {
      "cell_type": "code",
      "metadata": {
        "colab_type": "code",
        "id": "OujeMLxzadHt",
        "colab": {}
      },
      "source": [
        "X_train.shape ,y_train.shape"
      ],
      "execution_count": null,
      "outputs": []
    },
    {
      "cell_type": "markdown",
      "metadata": {
        "id": "fVG91TZ9hRNY",
        "colab_type": "text"
      },
      "source": [
        "Now the number of sampels increase from 395,219 to 583,648 ."
      ]
    },
    {
      "cell_type": "code",
      "metadata": {
        "colab_type": "code",
        "id": "a7CZP55eadHw",
        "colab": {}
      },
      "source": [
        "#X_train, X_test, y_train, y_test = train_test_split(X, y, test_size=0.2 , random_state= 101 ) \n",
        "\n"
      ],
      "execution_count": null,
      "outputs": []
    },
    {
      "cell_type": "markdown",
      "metadata": {
        "id": "J8zgIomoJoGT",
        "colab_type": "text"
      },
      "source": [
        "\n",
        "##Training test1 :\n",
        "---\n",
        "\n"
      ]
    },
    {
      "cell_type": "code",
      "metadata": {
        "colab_type": "code",
        "id": "ImJ7-F0uadHy",
        "colab": {}
      },
      "source": [
        "from sklearn.preprocessing import MinMaxScaler"
      ],
      "execution_count": null,
      "outputs": []
    },
    {
      "cell_type": "code",
      "metadata": {
        "colab_type": "code",
        "id": "j3-rCzSYadH0",
        "colab": {}
      },
      "source": [
        "scaler = MinMaxScaler()\n",
        "X_train"
      ],
      "execution_count": null,
      "outputs": []
    },
    {
      "cell_type": "code",
      "metadata": {
        "colab_type": "code",
        "id": "Qyfmuqg3adH2",
        "colab": {}
      },
      "source": [
        "X_train = scaler.fit_transform(X_train)"
      ],
      "execution_count": null,
      "outputs": []
    },
    {
      "cell_type": "code",
      "metadata": {
        "colab_type": "code",
        "id": "PgPs6D03adH4",
        "colab": {}
      },
      "source": [
        "X_test1 = scaler.transform(X_test1)"
      ],
      "execution_count": null,
      "outputs": []
    },
    {
      "cell_type": "code",
      "metadata": {
        "id": "83ABZpl-ARf_",
        "colab_type": "code",
        "colab": {}
      },
      "source": [
        "model = Sequential()\n",
        "\n",
        "\n",
        "# input layer\n",
        "model.add(Dense(78,  activation='relu'))\n",
        "model.add(Dropout(0.3))\n",
        "\n",
        "# hidden layer\n",
        "model.add(Dense(39, activation='relu'))\n",
        "model.add(Dropout(0.3))\n",
        "\n",
        "# hidden layer\n",
        "model.add(Dense(19, activation='relu'))\n",
        "model.add(Dropout(0.2))\n",
        "\n",
        "# output layer - binary classifiaction problem \n",
        "model.add(Dense(units=1,activation='sigmoid'))\n",
        "\n",
        "# Compile model\n",
        "model.compile(loss='binary_crossentropy', optimizer='adam')"
      ],
      "execution_count": null,
      "outputs": []
    },
    {
      "cell_type": "code",
      "metadata": {
        "id": "RFj0P4iwAXlx",
        "colab_type": "code",
        "colab": {}
      },
      "source": [
        "from tensorflow.keras.callbacks import EarlyStopping"
      ],
      "execution_count": null,
      "outputs": []
    },
    {
      "cell_type": "markdown",
      "metadata": {
        "id": "4x6FLpdjA7Oo",
        "colab_type": "text"
      },
      "source": [
        "The callback is called **early stopping** - the **monitor** will be tracking the validation loss.\n",
        "\n",
        "The **patients** is the number of epochs with no improvement after which training will be stopped.\n",
        "\n",
        "The **mode** value its by minimize\\maximize the monitor correspondly in our case - min the validation loss.\n",
        "\n"
      ]
    },
    {
      "cell_type": "code",
      "metadata": {
        "id": "ozZJiDalAjPq",
        "colab_type": "code",
        "colab": {}
      },
      "source": [
        "early_stop = EarlyStopping(monitor='val_loss' , mode = 'min' ,verbose= 1 , patience= 20)"
      ],
      "execution_count": null,
      "outputs": []
    },
    {
      "cell_type": "code",
      "metadata": {
        "id": "fpFtJ7ZFDPrN",
        "colab_type": "code",
        "colab": {}
      },
      "source": [
        "model.fit(x=X_train, \n",
        "          y=y_train, \n",
        "          epochs=600,\n",
        "          batch_size=256,\n",
        "          validation_data=(X_test1, y_test1), callbacks = [early_stop]\n",
        "          )"
      ],
      "execution_count": null,
      "outputs": []
    },
    {
      "cell_type": "code",
      "metadata": {
        "id": "hB2_pDuuMEpy",
        "colab_type": "code",
        "colab": {}
      },
      "source": [
        "losses = pd.DataFrame(model.history.history)"
      ],
      "execution_count": null,
      "outputs": []
    },
    {
      "cell_type": "code",
      "metadata": {
        "id": "_eR4jQbAMGrW",
        "colab_type": "code",
        "colab": {}
      },
      "source": [
        "losses[['loss','val_loss']].plot()"
      ],
      "execution_count": null,
      "outputs": []
    },
    {
      "cell_type": "code",
      "metadata": {
        "colab_type": "code",
        "id": "leNzrv3KcTQD",
        "colab": {}
      },
      "source": [
        "predictions = model.predict_classes(X_test1)"
      ],
      "execution_count": null,
      "outputs": []
    },
    {
      "cell_type": "code",
      "metadata": {
        "colab_type": "code",
        "id": "AKJE-HvkcTQJ",
        "colab": {}
      },
      "source": [
        "print(classification_report(y_test1,predictions))"
      ],
      "execution_count": null,
      "outputs": []
    },
    {
      "cell_type": "code",
      "metadata": {
        "colab_type": "code",
        "id": "lYARkil4cTQO",
        "colab": {}
      },
      "source": [
        "plot_confusion_matrix(conf_mat=confusion_matrix(y_test1,predictions),\n",
        "colorbar=True,  show_absolute=True, show_normed=True , cmap = 'gist_earth_r')\n",
        "\n"
      ],
      "execution_count": null,
      "outputs": []
    },
    {
      "cell_type": "markdown",
      "metadata": {
        "id": "Aoogh1mFJ4jZ",
        "colab_type": "text"
      },
      "source": [
        "##Training test2 :\n",
        "---"
      ]
    },
    {
      "cell_type": "code",
      "metadata": {
        "colab_type": "code",
        "id": "-qYhz0VcKUVa",
        "colab": {}
      },
      "source": [
        "X_test2 = scaler.transform(X_test2)"
      ],
      "execution_count": null,
      "outputs": []
    },
    {
      "cell_type": "code",
      "metadata": {
        "colab_type": "code",
        "id": "CE6ieuw7KUVf",
        "colab": {}
      },
      "source": [
        "model.fit(x=X_train, \n",
        "          y=y_train, \n",
        "          epochs=600,\n",
        "          batch_size=256,\n",
        "          validation_data=(X_test2, y_test2), callbacks = [early_stop]\n",
        "          )"
      ],
      "execution_count": null,
      "outputs": []
    },
    {
      "cell_type": "code",
      "metadata": {
        "colab_type": "code",
        "id": "cVWctZqeKUVj",
        "colab": {}
      },
      "source": [
        "losses = pd.DataFrame(model.history.history)"
      ],
      "execution_count": null,
      "outputs": []
    },
    {
      "cell_type": "code",
      "metadata": {
        "colab_type": "code",
        "id": "ZmgxYAHoKUVl",
        "colab": {}
      },
      "source": [
        "losses[['loss','val_loss']].plot()"
      ],
      "execution_count": null,
      "outputs": []
    },
    {
      "cell_type": "code",
      "metadata": {
        "colab_type": "code",
        "id": "xiiye5zeKUVo",
        "colab": {}
      },
      "source": [
        "predictions = model.predict_classes(X_test2)"
      ],
      "execution_count": null,
      "outputs": []
    },
    {
      "cell_type": "code",
      "metadata": {
        "colab_type": "code",
        "id": "BdnXePuYKUVr",
        "colab": {}
      },
      "source": [
        "print(classification_report(y_test2,predictions))"
      ],
      "execution_count": null,
      "outputs": []
    },
    {
      "cell_type": "code",
      "metadata": {
        "colab_type": "code",
        "id": "Q46cwZO5KUVu",
        "colab": {}
      },
      "source": [
        "plot_confusion_matrix(conf_mat=confusion_matrix(y_test2,predictions),\n",
        "colorbar=True,  show_absolute=True, show_normed=True , cmap = 'gist_earth_r')\n",
        "\n"
      ],
      "execution_count": null,
      "outputs": []
    },
    {
      "cell_type": "code",
      "metadata": {
        "id": "o8wU40QUmEA4",
        "colab_type": "code",
        "colab": {}
      },
      "source": [
        "model.save('loan_model2.h5')  "
      ],
      "execution_count": null,
      "outputs": []
    },
    {
      "cell_type": "markdown",
      "metadata": {
        "id": "Dw1mAXwAmCkY",
        "colab_type": "text"
      },
      "source": [
        "#Section 5: Forecasting using the model - would we offer this borrower a loan?\n",
        "----\n",
        "\n",
        "\n"
      ]
    },
    {
      "cell_type": "code",
      "metadata": {
        "id": "7eNEKMR2mCkY",
        "colab_type": "code",
        "colab": {}
      },
      "source": [
        "import random\n",
        "random.seed(101)\n",
        "random_ind = random.randint(0,len(df))\n",
        "\n",
        "new_customer = df.drop('loan_repaid',axis=1).iloc[random_ind]\n",
        "new_customer"
      ],
      "execution_count": null,
      "outputs": []
    },
    {
      "cell_type": "code",
      "metadata": {
        "id": "8omvSAXtmCkc",
        "colab_type": "code",
        "colab": {}
      },
      "source": [
        "new_cust = scaler.transform(new_customer.values.reshape(1,78))"
      ],
      "execution_count": null,
      "outputs": []
    },
    {
      "cell_type": "code",
      "metadata": {
        "id": "f5guyOx0m9Fs",
        "colab_type": "code",
        "colab": {}
      },
      "source": [
        "model.predict_classes(new_cust )"
      ],
      "execution_count": null,
      "outputs": []
    },
    {
      "cell_type": "markdown",
      "metadata": {
        "id": "5URii7lr7CzM",
        "colab_type": "text"
      },
      "source": [
        "The model prediction is 1 - Fully paid"
      ]
    },
    {
      "cell_type": "markdown",
      "metadata": {
        "id": "7axfwzZemCke",
        "colab_type": "text"
      },
      "source": [
        "checking if this person actually end up paying back their loan :"
      ]
    },
    {
      "cell_type": "code",
      "metadata": {
        "id": "itX7I8gQmCkf",
        "colab_type": "code",
        "colab": {}
      },
      "source": [
        "df.iloc[random_ind]['loan_repaid']"
      ],
      "execution_count": null,
      "outputs": []
    },
    {
      "cell_type": "markdown",
      "metadata": {
        "id": "j1U4bGAL7Hsz",
        "colab_type": "text"
      },
      "source": [
        "yes we are right ! "
      ]
    },
    {
      "cell_type": "code",
      "metadata": {
        "id": "LB9dMBN2ds5D",
        "colab_type": "code",
        "colab": {}
      },
      "source": [
        ""
      ],
      "execution_count": null,
      "outputs": []
    }
  ]
}